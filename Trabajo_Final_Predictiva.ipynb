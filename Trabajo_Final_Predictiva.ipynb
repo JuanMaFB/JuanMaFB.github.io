{
  "nbformat": 4,
  "nbformat_minor": 0,
  "metadata": {
    "colab": {
      "name": "Trabajo Final_Predictiva._29082020ipynb",
      "provenance": [],
      "collapsed_sections": [],
      "include_colab_link": true
    },
    "kernelspec": {
      "name": "python3",
      "display_name": "Python 3"
    }
  },
  "cells": [
    {
      "cell_type": "markdown",
      "metadata": {
        "id": "view-in-github",
        "colab_type": "text"
      },
      "source": [
        "<a href=\"https://colab.research.google.com/github/JuanMaFB/JuanMaFB.github.io/blob/master/Trabajo_Final_Predictiva.ipynb\" target=\"_parent\"><img src=\"https://colab.research.google.com/assets/colab-badge.svg\" alt=\"Open In Colab\"/></a>"
      ]
    },
    {
      "cell_type": "markdown",
      "metadata": {
        "id": "aIgpCbPyRHZL",
        "colab_type": "text"
      },
      "source": [
        "## Trabajo Final (Predictiva): Pronostico de la evolución de casos activos de SARS-CoV-2 en Colombia\n",
        "El trabajo que se presenta a continuación tiene como objetivo la predicción de corto y mediano plazo de el total de casos confirmados, los nuevos casos, los casos activos, recuperados y muertes para las ciudades de Bogotá, Medellín, Cali, Barranquilla y Pereira, utilizando técnicas estadísticas, de inteligencia artificial o modelos híbridos.\n",
        "\n",
        "El dataset que se utilizará es Casos positivos de COVID-19 en Colombia y se encuentra en www.datos.gov.co."
      ]
    },
    {
      "cell_type": "markdown",
      "metadata": {
        "id": "jexHfqdhuq91",
        "colab_type": "text"
      },
      "source": [
        "**Integrantes:**\n",
        "\n",
        "\n",
        "*   José Andres Galeano - Grupo 2\n",
        "*   Juan Manual Florez - Grupo 1 \n",
        "*   Lina Victoria Parra Duque - Grupo 1\n",
        "*   Yesica Andrea Velásquez - Grupo 3\n"
      ]
    },
    {
      "cell_type": "markdown",
      "metadata": {
        "id": "uwB5Vi0MqsFN",
        "colab_type": "text"
      },
      "source": [
        "## **Definición del problema real**\n",
        "El covid a nivel mundial ha representado no solo un reto para los sistemas de salud sino también un reto económico y gubernamental, el nuevo Coronavirus (COVID-19) ha sido clasificado por la Organización Mundial de la Salud como una emergencia en  salud  pública  de  importancia  internacional  (ESPII).  Se  han  reconocido  casos  en  todos  los  continentes  y  el  6  de  marzo se confirmó el primer caso en Colombia (Díaz, 2020), realmente el primer brote en el mundo fue en  Diciembre del 2019 en China , pero este país logró identificar realmente la causal del virus  a principios de Enero 2020, cuando ya este había pasado a otros países.  \n",
        "La pandemia por covid surgen de las particularidades del mismo virus pues a nivel epidemiológico, médico y social el conocimiento y medidas tomadas para combatir con este en base a incertidumbre total hace que las cifras y el tiempo de superación del virus varíen en todas las partes del mundo (Chaccour, 2020), el covid en las personas ocasionan infecciones respiratorias que consiguen ir desde el  resfriado  común  hasta  enfermedades  más  complicadas  como  el  síndrome  respiratorio  de  Oriente  Medio  (MERS) y   el   síndrome   respiratorio   agudo   severo   (SARS) (OMS, 2020) y se ha identificado además que es más probable que las personas mayores de edad o con sistemas inmunológicos ya afectados son más propensos a generar complicaciones si adquieren el virus. \n",
        "En Colombia las medidas para prevenir el contagio del covid desde el primer momento fueron extremas, es decir la población se sometió a una cuarentena obligatoria y a un cierre total de las actividades económicas, así mismo entendiendo que las personas del país la mayoría son trabajadores informales ( Wanderley, 2020) después de un mes de estas restricciones se empezó el proceso de reactivación que trajo consigo un aumento considerable de infectados llegando a un primer pico a finales de Julio, las bases de datos de infectados, muertes y recuperados reposan públicas y se actualizan constantemente y con estas se vienen realizando diferentes modelos para predecir no solo las condiciones futuras de la población para dar información sobre la salud del país, sino también por la preocupante situación económica y la reapertura de este sector. \n",
        " \n",
        "Basados en lo último el afán ahora es de retomar las actividades normales de las personas, para garantizar la manutención de las diferentes familias del país, entonces el propósito de lo siguiente es establecer una serie de predicciones de la condición del virus en diferentes ciudades representativas de Colombia  y determinar un fin de condiciones para la toma de decisiones de las medidas que se pueden tomar a partir de hoy para darle frente a la recuperación del país en relación al covid.\n",
        "\n",
        "\n",
        "**Ref:**\n",
        "Chaccour,   C.   COVID-19:   Cinco   respuestas   de   salud   pública   diferentes  ante  la  epidemia      [Internet].  2020  [citado  2020  marzo  26].   Disponible   en: https://www.isglobal.org/healthisglobal/-/custom-blog-portlet/covid-19-cinco-respuestas-de-salud-publica-diferentes-ante-la-epidemia/2877257/0\n",
        " \n",
        "Organización Mundial de la Salud. OMS. Preguntas y respuestas sobre la enfermedad por coronavirus (COVID-19) [Internet]. 2020 [citado 2020 marzo 26]. Recuperado de: https://www.who.int/es/emergencies/diseases/novel-coronavirus-2019/advice-for-public/q-a-coronaviruses\n",
        " \n",
        "\n",
        "Wanderley, F. Vera Cossio, H. Benavides JP. América Latina en la encrucijada del desarrollo sostenible e inclusivo -Bolivia, Ecuador, Colombia y Perú al inicio del siglo XXI. IISEC-UCB,2020.\n",
        "\n",
        "\n"
      ]
    },
    {
      "cell_type": "markdown",
      "metadata": {
        "id": "gR2jciOcUXLt",
        "colab_type": "text"
      },
      "source": [
        "## Descripción de las variables disponibles\n",
        "Antes de realizar cualquier cálculo con un nuevo conjunto de datos, es importante realizar una exploración descriptiva de los mismos. Esto permitirá comprender la información que contiene cada variable y dar indicios sobre qué variables serían adecuadas usar o no en etapas posteriores de análisis.\n",
        "\n",
        "Con base a la información facilitada en www.datos.gov.co., las variables en este conjunto de datos disponibles tenemos:\n",
        "\n",
        "\n",
        "1.  ***id_de_caso:*** Corresponde a la identificación del caso.\n",
        "2.   **fecha_de_notificaci_n**:Fecha de notificación a SIVIGILA.\n",
        "3.  **c_digo_divipola:** Corresponde a una nomenclatura para la identificación de departamentos y municipios.\n",
        "4.  **ciudad_de_ubicaci_n:** Se refiere a la ciudad en donde se presenta el evento.\n",
        "5.  **departamento:** Se refiere al departamento en donde se presenta el evento.\n",
        "6.  **atenci_n:** Se refiere al tipo de atención.\n",
        "7.  **edad:** Corresponde a la edad del paciente.\n",
        "8.  **sexo:** Corresponde al sexo del paciente.\n",
        "9.  **tipo:** Corresponde al tipo de atención,  Importado: proveniente de otro pais, Relacionado: correponde a casos nacionales.\n",
        "10.  **estado**: Corresponde a muertes no relacionadas con COVID-19, aún si eran casos activos **Hay pacientes recuperados para COVID-19, que pueden permanecer en hospitalización por otras comorbilidades.\n",
        "11.  **pa_s_de_procedencia**: Se refiere al pais en donde se presenta el evento.\n",
        "12.  **fis**: Fecha de inicio de síntoma.\n",
        "13.  **fecha_de_muerte**: Corresponde a la fecha en que el paciente fallece.\n",
        "14.  **fecha_diagnostico**: Fecha de confirmación por laboratorio.\n",
        "15.  **fecha_recuperado**: Corresponde a la fecha en que el paciente ya no presenta sintomas y es confirmado mediante una prueba.\n",
        "16.  **fecha_reporte_web**: Fecha de publicación en sitio web.\n",
        "17.  **tipo_recuperaci_n**:  \n",
        "Se refiere a la variable de tipo de recuperación que tiene dos opciones: PCR y tiempo. PCR indica que la persona se encuentra recuperada por segunda muestra, en donde dio negativo para el virus; mientras que tiempo significa que son personas que cumplieron 30 días posteriores al inicio de síntomas o toma de muestras que no tienen síntomas, que no tengan más de 70 años ni que estén hospitalizados.\n",
        "18.  **codigo_departamento**: Corresponde al sistema de codificación para el departamento en donde se presenta el evento.\n",
        "19.  **codigo_pais**:Corresponde al sistema de codificación para el pais en donde se presenta el evento.\n",
        "20.  **pertenencia_etnica**: Esta variable se actualizará cada semana.\n",
        "21.  **nombre_grupo_etnico**: Corresponde a el grupo etnico al que corresponde el paciente."
      ]
    },
    {
      "cell_type": "markdown",
      "metadata": {
        "id": "i2_vBqsIYvcT",
        "colab_type": "text"
      },
      "source": [
        "### *Lectura de la base de datos*\n",
        "Se importan las librerías a utilizar y llamamos la base de datos:"
      ]
    },
    {
      "cell_type": "code",
      "metadata": {
        "id": "rokmBtk-aWAT",
        "colab_type": "code",
        "colab": {
          "base_uri": "https://localhost:8080/",
          "height": 212
        },
        "outputId": "6da0f65c-a78b-419e-e61f-9283a6da3ee9"
      },
      "source": [
        "!pip install pandas\n",
        "!pip install sodapy"
      ],
      "execution_count": null,
      "outputs": [
        {
          "output_type": "stream",
          "text": [
            "Requirement already satisfied: pandas in /usr/local/lib/python3.6/dist-packages (1.0.5)\n",
            "Requirement already satisfied: python-dateutil>=2.6.1 in /usr/local/lib/python3.6/dist-packages (from pandas) (2.8.1)\n",
            "Requirement already satisfied: pytz>=2017.2 in /usr/local/lib/python3.6/dist-packages (from pandas) (2018.9)\n",
            "Requirement already satisfied: numpy>=1.13.3 in /usr/local/lib/python3.6/dist-packages (from pandas) (1.18.5)\n",
            "Requirement already satisfied: six>=1.5 in /usr/local/lib/python3.6/dist-packages (from python-dateutil>=2.6.1->pandas) (1.15.0)\n",
            "Requirement already satisfied: sodapy in /usr/local/lib/python3.6/dist-packages (2.1.0)\n",
            "Requirement already satisfied: requests>=2.20.0 in /usr/local/lib/python3.6/dist-packages (from sodapy) (2.23.0)\n",
            "Requirement already satisfied: idna<3,>=2.5 in /usr/local/lib/python3.6/dist-packages (from requests>=2.20.0->sodapy) (2.10)\n",
            "Requirement already satisfied: urllib3!=1.25.0,!=1.25.1,<1.26,>=1.21.1 in /usr/local/lib/python3.6/dist-packages (from requests>=2.20.0->sodapy) (1.24.3)\n",
            "Requirement already satisfied: chardet<4,>=3.0.2 in /usr/local/lib/python3.6/dist-packages (from requests>=2.20.0->sodapy) (3.0.4)\n",
            "Requirement already satisfied: certifi>=2017.4.17 in /usr/local/lib/python3.6/dist-packages (from requests>=2.20.0->sodapy) (2020.6.20)\n"
          ],
          "name": "stdout"
        }
      ]
    },
    {
      "cell_type": "code",
      "metadata": {
        "id": "VXfuw8b_Y-Fq",
        "colab_type": "code",
        "colab": {}
      },
      "source": [
        "## librerías\n",
        "import pandas as pd\n",
        "from sodapy import Socrata\n",
        "import numpy as np\n",
        "import seaborn as sns\n",
        "import matplotlib.pyplot as plt\n",
        "import datetime"
      ],
      "execution_count": null,
      "outputs": []
    },
    {
      "cell_type": "code",
      "metadata": {
        "id": "Z9JmEoR5HE82",
        "colab_type": "code",
        "colab": {
          "base_uri": "https://localhost:8080/",
          "height": 35
        },
        "outputId": "bcc3d625-8b17-469c-a92c-f0a29f1cb02b"
      },
      "source": [
        "cliente = Socrata(\"www.datos.gov.co\", None)\n",
        "df = cliente.get(\"gt2j-8ykr\", limit=1000000)\n",
        "# Convertir los datos a un DataFrame\n",
        "df_0 = pd.DataFrame.from_records(df)\n"
      ],
      "execution_count": null,
      "outputs": [
        {
          "output_type": "stream",
          "text": [
            "WARNING:root:Requests made without an app_token will be subject to strict throttling limits.\n"
          ],
          "name": "stderr"
        }
      ]
    },
    {
      "cell_type": "code",
      "metadata": {
        "id": "qbzoOmDOfZ3b",
        "colab_type": "code",
        "colab": {}
      },
      "source": [
        "#Se realiza una copia de la base de datos\n",
        "df_1= df_0.copy()\n",
        "#df1 = pd.read_csv(\"https://www.datos.gov.co/api/views/gt2j-8ykr/rows.csv?accessType=DOWNLOAD\")"
      ],
      "execution_count": null,
      "outputs": []
    },
    {
      "cell_type": "markdown",
      "metadata": {
        "id": "INdonqJ5avl0",
        "colab_type": "text"
      },
      "source": [
        "## *Exploración de la base de datos*\n",
        "\n",
        "A continuación analizamos las características de la base de datos buscando describir cómo se relaciona cada atributo con la variable objetivo"
      ]
    },
    {
      "cell_type": "code",
      "metadata": {
        "id": "6aUw5JHSIhFN",
        "colab_type": "code",
        "colab": {
          "base_uri": "https://localhost:8080/",
          "height": 141
        },
        "outputId": "6846e55f-0390-49da-ea50-3e8383bc465a"
      },
      "source": [
        "#Columnas de la base de datos\n",
        "print('Nombre columnas:',df_1.columns)"
      ],
      "execution_count": null,
      "outputs": [
        {
          "output_type": "stream",
          "text": [
            "Nombre columnas: Index(['id_de_caso', 'fecha_de_notificaci_n', 'c_digo_divipola',\n",
            "       'ciudad_de_ubicaci_n', 'departamento', 'atenci_n', 'edad', 'sexo',\n",
            "       'tipo', 'estado', 'pa_s_de_procedencia', 'fis', 'fecha_diagnostico',\n",
            "       'fecha_recuperado', 'fecha_reporte_web', 'tipo_recuperaci_n',\n",
            "       'codigo_departamento', 'codigo_pais', 'pertenencia_etnica',\n",
            "       'nombre_grupo_etnico', 'fecha_de_muerte'],\n",
            "      dtype='object')\n"
          ],
          "name": "stdout"
        }
      ]
    },
    {
      "cell_type": "markdown",
      "metadata": {
        "id": "m271ds7bKqO9",
        "colab_type": "text"
      },
      "source": [
        "Se seleccionan las variables que harán parte del modelo, en este caso se tendran en cuenta: id_de_caso, fecha_de_notificaci_n      ciudad_de_ubicaci_n, fecha_diagnostico, fecha_reporte_web, fecha_recuperado y fecha_de_muerte"
      ]
    },
    {
      "cell_type": "code",
      "metadata": {
        "id": "QX4UUQMTgE7i",
        "colab_type": "code",
        "colab": {}
      },
      "source": [
        " df0=df_1[['id_de_caso', 'fecha_de_notificaci_n',\n",
        "       'ciudad_de_ubicaci_n',  'fecha_diagnostico', 'fecha_reporte_web', 'fecha_recuperado', 'fecha_de_muerte']]\n"
      ],
      "execution_count": null,
      "outputs": []
    },
    {
      "cell_type": "markdown",
      "metadata": {
        "id": "OFK4E5se2FT_",
        "colab_type": "text"
      },
      "source": [
        "Verificamos si todas las columnas tienen igual registros y tambien se puede ver que las columnas de la base de datos seleccionada contiene atributos del siguiente tipo objects:"
      ]
    },
    {
      "cell_type": "code",
      "metadata": {
        "id": "r8fs1QWwtNUF",
        "colab_type": "code",
        "colab": {
          "base_uri": "https://localhost:8080/",
          "height": 266
        },
        "outputId": "a6477de7-68ec-4c8c-ea9f-70f9edf66c4f"
      },
      "source": [
        "df0.info()"
      ],
      "execution_count": null,
      "outputs": [
        {
          "output_type": "stream",
          "text": [
            "<class 'pandas.core.frame.DataFrame'>\n",
            "RangeIndex: 650062 entries, 0 to 650061\n",
            "Data columns (total 7 columns):\n",
            " #   Column                 Non-Null Count   Dtype \n",
            "---  ------                 --------------   ----- \n",
            " 0   id_de_caso             650062 non-null  object\n",
            " 1   fecha_de_notificaci_n  650062 non-null  object\n",
            " 2   ciudad_de_ubicaci_n    650062 non-null  object\n",
            " 3   fecha_diagnostico      646086 non-null  object\n",
            " 4   fecha_reporte_web      650062 non-null  object\n",
            " 5   fecha_recuperado       498226 non-null  object\n",
            " 6   fecha_de_muerte        22213 non-null   object\n",
            "dtypes: object(7)\n",
            "memory usage: 34.7+ MB\n"
          ],
          "name": "stdout"
        }
      ]
    },
    {
      "cell_type": "markdown",
      "metadata": {
        "id": "9ZtT7G8T2IbC",
        "colab_type": "text"
      },
      "source": [
        "Podemos observar que todas las columnas son de tipo object por lo tanto se deben de modificar las columnas  *fecha_de_notificaci_n, fecha_diagnostico, fecha_recuperado, fecha_reporte_web y fecha_de_muerte* a un tipo de datos ***datetime***, la columna *id_de_caso* se deben de modificar a tipo de datos ***int64***\n"
      ]
    },
    {
      "cell_type": "code",
      "metadata": {
        "id": "rVbobdhP1AK2",
        "colab_type": "code",
        "colab": {
          "base_uri": "https://localhost:8080/",
          "height": 677
        },
        "outputId": "6a65abcf-c78e-462a-a22a-78eb66f887a6"
      },
      "source": [
        "df0['fecha_de_notificaci_n']= pd.to_datetime(df0['fecha_de_notificaci_n'])\n",
        "df0['fecha_diagnostico']= pd.to_datetime(df0['fecha_diagnostico'])\n",
        "df0['fecha_recuperado']= pd.to_datetime(df0['fecha_recuperado'])\n",
        "df0['fecha_reporte_web']= pd.to_datetime(df0['fecha_reporte_web'])\n",
        "df0['fecha_de_muerte']= pd.to_datetime(df0['fecha_de_muerte'])\n",
        "df0['id_de_caso']= df0['id_de_caso'].values.astype(float)\n",
        "df0 = df0.astype({'ciudad_de_ubicaci_n':'category',\n",
        "       'id_de_caso':'int64'})"
      ],
      "execution_count": null,
      "outputs": [
        {
          "output_type": "stream",
          "text": [
            "/usr/local/lib/python3.6/dist-packages/ipykernel_launcher.py:1: SettingWithCopyWarning: \n",
            "A value is trying to be set on a copy of a slice from a DataFrame.\n",
            "Try using .loc[row_indexer,col_indexer] = value instead\n",
            "\n",
            "See the caveats in the documentation: https://pandas.pydata.org/pandas-docs/stable/user_guide/indexing.html#returning-a-view-versus-a-copy\n",
            "  \"\"\"Entry point for launching an IPython kernel.\n",
            "/usr/local/lib/python3.6/dist-packages/ipykernel_launcher.py:2: SettingWithCopyWarning: \n",
            "A value is trying to be set on a copy of a slice from a DataFrame.\n",
            "Try using .loc[row_indexer,col_indexer] = value instead\n",
            "\n",
            "See the caveats in the documentation: https://pandas.pydata.org/pandas-docs/stable/user_guide/indexing.html#returning-a-view-versus-a-copy\n",
            "  \n",
            "/usr/local/lib/python3.6/dist-packages/ipykernel_launcher.py:3: SettingWithCopyWarning: \n",
            "A value is trying to be set on a copy of a slice from a DataFrame.\n",
            "Try using .loc[row_indexer,col_indexer] = value instead\n",
            "\n",
            "See the caveats in the documentation: https://pandas.pydata.org/pandas-docs/stable/user_guide/indexing.html#returning-a-view-versus-a-copy\n",
            "  This is separate from the ipykernel package so we can avoid doing imports until\n",
            "/usr/local/lib/python3.6/dist-packages/ipykernel_launcher.py:4: SettingWithCopyWarning: \n",
            "A value is trying to be set on a copy of a slice from a DataFrame.\n",
            "Try using .loc[row_indexer,col_indexer] = value instead\n",
            "\n",
            "See the caveats in the documentation: https://pandas.pydata.org/pandas-docs/stable/user_guide/indexing.html#returning-a-view-versus-a-copy\n",
            "  after removing the cwd from sys.path.\n",
            "/usr/local/lib/python3.6/dist-packages/ipykernel_launcher.py:5: SettingWithCopyWarning: \n",
            "A value is trying to be set on a copy of a slice from a DataFrame.\n",
            "Try using .loc[row_indexer,col_indexer] = value instead\n",
            "\n",
            "See the caveats in the documentation: https://pandas.pydata.org/pandas-docs/stable/user_guide/indexing.html#returning-a-view-versus-a-copy\n",
            "  \"\"\"\n",
            "/usr/local/lib/python3.6/dist-packages/ipykernel_launcher.py:6: SettingWithCopyWarning: \n",
            "A value is trying to be set on a copy of a slice from a DataFrame.\n",
            "Try using .loc[row_indexer,col_indexer] = value instead\n",
            "\n",
            "See the caveats in the documentation: https://pandas.pydata.org/pandas-docs/stable/user_guide/indexing.html#returning-a-view-versus-a-copy\n",
            "  \n"
          ],
          "name": "stderr"
        }
      ]
    },
    {
      "cell_type": "code",
      "metadata": {
        "id": "rilSgRVy8xsn",
        "colab_type": "code",
        "colab": {
          "base_uri": "https://localhost:8080/",
          "height": 159
        },
        "outputId": "5e205783-2865-4de7-e209-7e50d29552aa"
      },
      "source": [
        "#Validamos el cambio de tipo de datos\n",
        "df0.dtypes"
      ],
      "execution_count": null,
      "outputs": [
        {
          "output_type": "execute_result",
          "data": {
            "text/plain": [
              "id_de_caso                        int64\n",
              "fecha_de_notificaci_n    datetime64[ns]\n",
              "ciudad_de_ubicaci_n            category\n",
              "fecha_diagnostico        datetime64[ns]\n",
              "fecha_reporte_web        datetime64[ns]\n",
              "fecha_recuperado         datetime64[ns]\n",
              "fecha_de_muerte          datetime64[ns]\n",
              "dtype: object"
            ]
          },
          "metadata": {
            "tags": []
          },
          "execution_count": 75
        }
      ]
    },
    {
      "cell_type": "markdown",
      "metadata": {
        "id": "NihoHvuPlLXh",
        "colab_type": "text"
      },
      "source": [
        "Para el analisis solo tomaremos las Ciudades= Medellín, Bogotá D.C., Cali, Barranquilla y  Pereira"
      ]
    },
    {
      "cell_type": "code",
      "metadata": {
        "id": "7NZ5xxmeVFYx",
        "colab_type": "code",
        "colab": {}
      },
      "source": [
        "def filtrar_ciudad(df,Ciudad):\n",
        "  df0_0 =df[df['ciudad_de_ubicaci_n']==Ciudad]\n",
        "  df0_1=df0_0.groupby(['fecha_reporte_web']).size().cumsum().to_frame(name = 'Casos_Diagnostico').reset_index()\n",
        "  df0_1=df0_1.rename(columns={'fecha_reporte_web': 'Fecha'})\n",
        "  df0_2=df0_0.groupby(['fecha_recuperado']).size().cumsum().to_frame(name = 'Casos_Recuperado').reset_index()\n",
        "  df0_2=df0_2.rename(columns={'fecha_recuperado': 'Fecha'})\n",
        "  df0_3=df0_0[df0_0.fecha_recuperado.isnull()].groupby(['fecha_de_muerte']).size().cumsum().to_frame(name = 'Casos_Muerte').reset_index()\n",
        "  df0_3=df0_3.rename(columns={'fecha_de_muerte': 'Fecha'})\n",
        "  df0_0=pd.merge(df0_1, df0_2, on='Fecha',how='left')\n",
        "  df0_0=pd.merge(df0_0, df0_3, on='Fecha',how='left')\n",
        "  df0_0.sort_values('Fecha')\n",
        "  df0_0=df0_0.fillna(method='ffill')\n",
        "  df0_0=df0_0.fillna(0)\n",
        "  df0_0[\"Casos_Activos\"]=df0_0[\"Casos_Diagnostico\"]-df0_0[\"Casos_Recuperado\"]-df0_0[\"Casos_Muerte\"]\n",
        "  df0_0[\"Mes\"]=pd.DatetimeIndex(df0_0['Fecha']).month\n",
        "  df0_0[\"Dia\"]=pd.DatetimeIndex(df0_0['Fecha']).day\n",
        "  df0_0[\"Ciudad\"]=Ciudad\n",
        "  return df0_0"
      ],
      "execution_count": null,
      "outputs": []
    },
    {
      "cell_type": "code",
      "metadata": {
        "id": "rgqA2lLtN434",
        "colab_type": "code",
        "colab": {}
      },
      "source": [
        "ciudad = ['Medellín','Bogotá D.C.','Cali','Barranquilla','Pereira']\n",
        "for ci in ciudad:\n",
        "      if ci==\"Medellín\":\n",
        "        df_fnal=filtrar_ciudad(df0,ci)\n",
        "      else:\n",
        "        df_concat=filtrar_ciudad(df0,ci)\n",
        "        df_fnal=pd.concat([df_fnal, df_concat])"
      ],
      "execution_count": null,
      "outputs": []
    },
    {
      "cell_type": "markdown",
      "metadata": {
        "id": "4c0quB84_D_-",
        "colab_type": "text"
      },
      "source": [
        "Se modifica el nombre de la ciudad de **Cali** por **Santiago de Cali** con el fin de visualizarla en el mapa presentado en el dashboard (data studio), ya que la ciudad de Cali se visualizaba en otra parte del mundo."
      ]
    },
    {
      "cell_type": "code",
      "metadata": {
        "id": "34h2IQFJ_UmZ",
        "colab_type": "code",
        "colab": {}
      },
      "source": [
        "df0[\"ciudad_de_ubicaci_n\"]=df0.ciudad_de_ubicaci_n.replace(\"Cali\", \"Santiago de Cali\")"
      ],
      "execution_count": null,
      "outputs": []
    },
    {
      "cell_type": "code",
      "metadata": {
        "id": "_a7Can52-zYg",
        "colab_type": "code",
        "colab": {
          "base_uri": "https://localhost:8080/",
          "height": 431
        },
        "outputId": "4a27e406-eec0-4941-aff1-a759b6ca992e"
      },
      "source": [
        "df0[df0[\"ciudad_de_ubicaci_n\"]==\"Santiago de Cali\"]"
      ],
      "execution_count": null,
      "outputs": [
        {
          "output_type": "execute_result",
          "data": {
            "text/html": [
              "<div>\n",
              "<style scoped>\n",
              "    .dataframe tbody tr th:only-of-type {\n",
              "        vertical-align: middle;\n",
              "    }\n",
              "\n",
              "    .dataframe tbody tr th {\n",
              "        vertical-align: top;\n",
              "    }\n",
              "\n",
              "    .dataframe thead th {\n",
              "        text-align: right;\n",
              "    }\n",
              "</style>\n",
              "<table border=\"1\" class=\"dataframe\">\n",
              "  <thead>\n",
              "    <tr style=\"text-align: right;\">\n",
              "      <th></th>\n",
              "      <th>id_de_caso</th>\n",
              "      <th>fecha_de_notificaci_n</th>\n",
              "      <th>ciudad_de_ubicaci_n</th>\n",
              "      <th>fecha_diagnostico</th>\n",
              "      <th>fecha_reporte_web</th>\n",
              "      <th>fecha_recuperado</th>\n",
              "      <th>fecha_de_muerte</th>\n",
              "    </tr>\n",
              "  </thead>\n",
              "  <tbody>\n",
              "    <tr>\n",
              "      <th>24</th>\n",
              "      <td>25</td>\n",
              "      <td>2020-03-13</td>\n",
              "      <td>Santiago de Cali</td>\n",
              "      <td>2020-03-13</td>\n",
              "      <td>2020-03-13</td>\n",
              "      <td>2020-05-12</td>\n",
              "      <td>NaT</td>\n",
              "    </tr>\n",
              "    <tr>\n",
              "      <th>61</th>\n",
              "      <td>62</td>\n",
              "      <td>2020-03-14</td>\n",
              "      <td>Santiago de Cali</td>\n",
              "      <td>2020-03-16</td>\n",
              "      <td>2020-03-16</td>\n",
              "      <td>2020-03-26</td>\n",
              "      <td>NaT</td>\n",
              "    </tr>\n",
              "    <tr>\n",
              "      <th>62</th>\n",
              "      <td>63</td>\n",
              "      <td>2020-03-16</td>\n",
              "      <td>Santiago de Cali</td>\n",
              "      <td>2020-03-16</td>\n",
              "      <td>2020-03-16</td>\n",
              "      <td>2020-03-28</td>\n",
              "      <td>NaT</td>\n",
              "    </tr>\n",
              "    <tr>\n",
              "      <th>80</th>\n",
              "      <td>81</td>\n",
              "      <td>2020-03-17</td>\n",
              "      <td>Santiago de Cali</td>\n",
              "      <td>2020-03-17</td>\n",
              "      <td>2020-03-17</td>\n",
              "      <td>2020-03-28</td>\n",
              "      <td>NaT</td>\n",
              "    </tr>\n",
              "    <tr>\n",
              "      <th>81</th>\n",
              "      <td>82</td>\n",
              "      <td>2020-03-16</td>\n",
              "      <td>Santiago de Cali</td>\n",
              "      <td>2020-03-17</td>\n",
              "      <td>2020-03-17</td>\n",
              "      <td>2020-04-19</td>\n",
              "      <td>NaT</td>\n",
              "    </tr>\n",
              "    <tr>\n",
              "      <th>...</th>\n",
              "      <td>...</td>\n",
              "      <td>...</td>\n",
              "      <td>...</td>\n",
              "      <td>...</td>\n",
              "      <td>...</td>\n",
              "      <td>...</td>\n",
              "      <td>...</td>\n",
              "    </tr>\n",
              "    <tr>\n",
              "      <th>649668</th>\n",
              "      <td>649709</td>\n",
              "      <td>2020-08-23</td>\n",
              "      <td>Santiago de Cali</td>\n",
              "      <td>2020-09-03</td>\n",
              "      <td>2020-09-04</td>\n",
              "      <td>NaT</td>\n",
              "      <td>NaT</td>\n",
              "    </tr>\n",
              "    <tr>\n",
              "      <th>649741</th>\n",
              "      <td>649782</td>\n",
              "      <td>2020-08-22</td>\n",
              "      <td>Santiago de Cali</td>\n",
              "      <td>2020-09-02</td>\n",
              "      <td>2020-09-04</td>\n",
              "      <td>NaT</td>\n",
              "      <td>NaT</td>\n",
              "    </tr>\n",
              "    <tr>\n",
              "      <th>649791</th>\n",
              "      <td>649832</td>\n",
              "      <td>2020-08-23</td>\n",
              "      <td>Santiago de Cali</td>\n",
              "      <td>2020-09-03</td>\n",
              "      <td>2020-09-04</td>\n",
              "      <td>NaT</td>\n",
              "      <td>NaT</td>\n",
              "    </tr>\n",
              "    <tr>\n",
              "      <th>649793</th>\n",
              "      <td>649834</td>\n",
              "      <td>2020-08-23</td>\n",
              "      <td>Santiago de Cali</td>\n",
              "      <td>2020-09-03</td>\n",
              "      <td>2020-09-04</td>\n",
              "      <td>NaT</td>\n",
              "      <td>NaT</td>\n",
              "    </tr>\n",
              "    <tr>\n",
              "      <th>649810</th>\n",
              "      <td>649851</td>\n",
              "      <td>2020-08-23</td>\n",
              "      <td>Santiago de Cali</td>\n",
              "      <td>2020-09-03</td>\n",
              "      <td>2020-09-04</td>\n",
              "      <td>NaT</td>\n",
              "      <td>NaT</td>\n",
              "    </tr>\n",
              "  </tbody>\n",
              "</table>\n",
              "<p>38466 rows × 7 columns</p>\n",
              "</div>"
            ],
            "text/plain": [
              "        id_de_caso fecha_de_notificaci_n  ... fecha_recuperado fecha_de_muerte\n",
              "24              25            2020-03-13  ...       2020-05-12             NaT\n",
              "61              62            2020-03-14  ...       2020-03-26             NaT\n",
              "62              63            2020-03-16  ...       2020-03-28             NaT\n",
              "80              81            2020-03-17  ...       2020-03-28             NaT\n",
              "81              82            2020-03-16  ...       2020-04-19             NaT\n",
              "...            ...                   ...  ...              ...             ...\n",
              "649668      649709            2020-08-23  ...              NaT             NaT\n",
              "649741      649782            2020-08-22  ...              NaT             NaT\n",
              "649791      649832            2020-08-23  ...              NaT             NaT\n",
              "649793      649834            2020-08-23  ...              NaT             NaT\n",
              "649810      649851            2020-08-23  ...              NaT             NaT\n",
              "\n",
              "[38466 rows x 7 columns]"
            ]
          },
          "metadata": {
            "tags": []
          },
          "execution_count": 77
        }
      ]
    },
    {
      "cell_type": "code",
      "metadata": {
        "id": "gVHxPDVX-Ph9",
        "colab_type": "code",
        "colab": {
          "base_uri": "https://localhost:8080/",
          "height": 653
        },
        "outputId": "c5cd7c65-c5e3-4404-d39f-73fea427ad94"
      },
      "source": [
        "df0[df0['ciudad_de_ubicaci_n']==\"Santiago de\"]"
      ],
      "execution_count": null,
      "outputs": [
        {
          "output_type": "error",
          "ename": "KeyError",
          "evalue": "ignored",
          "traceback": [
            "\u001b[0;31m---------------------------------------------------------------------------\u001b[0m",
            "\u001b[0;31mKeyError\u001b[0m                                  Traceback (most recent call last)",
            "\u001b[0;32m/usr/local/lib/python3.6/dist-packages/pandas/core/indexes/base.py\u001b[0m in \u001b[0;36mget_loc\u001b[0;34m(self, key, method, tolerance)\u001b[0m\n\u001b[1;32m   2645\u001b[0m             \u001b[0;32mtry\u001b[0m\u001b[0;34m:\u001b[0m\u001b[0;34m\u001b[0m\u001b[0;34m\u001b[0m\u001b[0m\n\u001b[0;32m-> 2646\u001b[0;31m                 \u001b[0;32mreturn\u001b[0m \u001b[0mself\u001b[0m\u001b[0;34m.\u001b[0m\u001b[0m_engine\u001b[0m\u001b[0;34m.\u001b[0m\u001b[0mget_loc\u001b[0m\u001b[0;34m(\u001b[0m\u001b[0mkey\u001b[0m\u001b[0;34m)\u001b[0m\u001b[0;34m\u001b[0m\u001b[0;34m\u001b[0m\u001b[0m\n\u001b[0m\u001b[1;32m   2647\u001b[0m             \u001b[0;32mexcept\u001b[0m \u001b[0mKeyError\u001b[0m\u001b[0;34m:\u001b[0m\u001b[0;34m\u001b[0m\u001b[0;34m\u001b[0m\u001b[0m\n",
            "\u001b[0;32mpandas/_libs/index.pyx\u001b[0m in \u001b[0;36mpandas._libs.index.IndexEngine.get_loc\u001b[0;34m()\u001b[0m\n",
            "\u001b[0;32mpandas/_libs/index.pyx\u001b[0m in \u001b[0;36mpandas._libs.index.IndexEngine.get_loc\u001b[0;34m()\u001b[0m\n",
            "\u001b[0;32mpandas/_libs/index_class_helper.pxi\u001b[0m in \u001b[0;36mpandas._libs.index.Int64Engine._check_type\u001b[0;34m()\u001b[0m\n",
            "\u001b[0;31mKeyError\u001b[0m: 'ciudad_de_ubicaci_n'",
            "\nDuring handling of the above exception, another exception occurred:\n",
            "\u001b[0;31mKeyError\u001b[0m                                  Traceback (most recent call last)",
            "\u001b[0;32m<ipython-input-64-cce74c225900>\u001b[0m in \u001b[0;36m<module>\u001b[0;34m()\u001b[0m\n\u001b[0;32m----> 1\u001b[0;31m \u001b[0mdf0\u001b[0m\u001b[0;34m[\u001b[0m\u001b[0mdf0\u001b[0m\u001b[0;34m[\u001b[0m\u001b[0;34m'ciudad_de_ubicaci_n'\u001b[0m\u001b[0;34m]\u001b[0m\u001b[0;34m==\u001b[0m\u001b[0;34m\"Santiago de Cali\"\u001b[0m\u001b[0;34m]\u001b[0m\u001b[0;34m\u001b[0m\u001b[0;34m\u001b[0m\u001b[0m\n\u001b[0m",
            "\u001b[0;32m/usr/local/lib/python3.6/dist-packages/pandas/core/series.py\u001b[0m in \u001b[0;36m__getitem__\u001b[0;34m(self, key)\u001b[0m\n\u001b[1;32m    869\u001b[0m         \u001b[0mkey\u001b[0m \u001b[0;34m=\u001b[0m \u001b[0mcom\u001b[0m\u001b[0;34m.\u001b[0m\u001b[0mapply_if_callable\u001b[0m\u001b[0;34m(\u001b[0m\u001b[0mkey\u001b[0m\u001b[0;34m,\u001b[0m \u001b[0mself\u001b[0m\u001b[0;34m)\u001b[0m\u001b[0;34m\u001b[0m\u001b[0;34m\u001b[0m\u001b[0m\n\u001b[1;32m    870\u001b[0m         \u001b[0;32mtry\u001b[0m\u001b[0;34m:\u001b[0m\u001b[0;34m\u001b[0m\u001b[0;34m\u001b[0m\u001b[0m\n\u001b[0;32m--> 871\u001b[0;31m             \u001b[0mresult\u001b[0m \u001b[0;34m=\u001b[0m \u001b[0mself\u001b[0m\u001b[0;34m.\u001b[0m\u001b[0mindex\u001b[0m\u001b[0;34m.\u001b[0m\u001b[0mget_value\u001b[0m\u001b[0;34m(\u001b[0m\u001b[0mself\u001b[0m\u001b[0;34m,\u001b[0m \u001b[0mkey\u001b[0m\u001b[0;34m)\u001b[0m\u001b[0;34m\u001b[0m\u001b[0;34m\u001b[0m\u001b[0m\n\u001b[0m\u001b[1;32m    872\u001b[0m \u001b[0;34m\u001b[0m\u001b[0m\n\u001b[1;32m    873\u001b[0m             \u001b[0;32mif\u001b[0m \u001b[0;32mnot\u001b[0m \u001b[0mis_scalar\u001b[0m\u001b[0;34m(\u001b[0m\u001b[0mresult\u001b[0m\u001b[0;34m)\u001b[0m\u001b[0;34m:\u001b[0m\u001b[0;34m\u001b[0m\u001b[0;34m\u001b[0m\u001b[0m\n",
            "\u001b[0;32m/usr/local/lib/python3.6/dist-packages/pandas/core/indexes/base.py\u001b[0m in \u001b[0;36mget_value\u001b[0;34m(self, series, key)\u001b[0m\n\u001b[1;32m   4386\u001b[0m                 \u001b[0;31m# try that\u001b[0m\u001b[0;34m\u001b[0m\u001b[0;34m\u001b[0m\u001b[0;34m\u001b[0m\u001b[0m\n\u001b[1;32m   4387\u001b[0m                 \u001b[0;32mtry\u001b[0m\u001b[0;34m:\u001b[0m\u001b[0;34m\u001b[0m\u001b[0;34m\u001b[0m\u001b[0m\n\u001b[0;32m-> 4388\u001b[0;31m                     \u001b[0miloc\u001b[0m \u001b[0;34m=\u001b[0m \u001b[0mself\u001b[0m\u001b[0;34m.\u001b[0m\u001b[0mget_loc\u001b[0m\u001b[0;34m(\u001b[0m\u001b[0mkey\u001b[0m\u001b[0;34m)\u001b[0m\u001b[0;34m\u001b[0m\u001b[0;34m\u001b[0m\u001b[0m\n\u001b[0m\u001b[1;32m   4389\u001b[0m                     \u001b[0;32mreturn\u001b[0m \u001b[0ms\u001b[0m\u001b[0;34m[\u001b[0m\u001b[0miloc\u001b[0m\u001b[0;34m]\u001b[0m\u001b[0;34m\u001b[0m\u001b[0;34m\u001b[0m\u001b[0m\n\u001b[1;32m   4390\u001b[0m                 \u001b[0;32mexcept\u001b[0m \u001b[0mKeyError\u001b[0m\u001b[0;34m:\u001b[0m\u001b[0;34m\u001b[0m\u001b[0;34m\u001b[0m\u001b[0m\n",
            "\u001b[0;32m/usr/local/lib/python3.6/dist-packages/pandas/core/indexes/range.py\u001b[0m in \u001b[0;36mget_loc\u001b[0;34m(self, key, method, tolerance)\u001b[0m\n\u001b[1;32m    351\u001b[0m             \u001b[0;32mexcept\u001b[0m \u001b[0mValueError\u001b[0m\u001b[0;34m:\u001b[0m\u001b[0;34m\u001b[0m\u001b[0;34m\u001b[0m\u001b[0m\n\u001b[1;32m    352\u001b[0m                 \u001b[0;32mraise\u001b[0m \u001b[0mKeyError\u001b[0m\u001b[0;34m(\u001b[0m\u001b[0mkey\u001b[0m\u001b[0;34m)\u001b[0m\u001b[0;34m\u001b[0m\u001b[0;34m\u001b[0m\u001b[0m\n\u001b[0;32m--> 353\u001b[0;31m         \u001b[0;32mreturn\u001b[0m \u001b[0msuper\u001b[0m\u001b[0;34m(\u001b[0m\u001b[0;34m)\u001b[0m\u001b[0;34m.\u001b[0m\u001b[0mget_loc\u001b[0m\u001b[0;34m(\u001b[0m\u001b[0mkey\u001b[0m\u001b[0;34m,\u001b[0m \u001b[0mmethod\u001b[0m\u001b[0;34m=\u001b[0m\u001b[0mmethod\u001b[0m\u001b[0;34m,\u001b[0m \u001b[0mtolerance\u001b[0m\u001b[0;34m=\u001b[0m\u001b[0mtolerance\u001b[0m\u001b[0;34m)\u001b[0m\u001b[0;34m\u001b[0m\u001b[0;34m\u001b[0m\u001b[0m\n\u001b[0m\u001b[1;32m    354\u001b[0m \u001b[0;34m\u001b[0m\u001b[0m\n\u001b[1;32m    355\u001b[0m     \u001b[0;34m@\u001b[0m\u001b[0mAppender\u001b[0m\u001b[0;34m(\u001b[0m\u001b[0m_index_shared_docs\u001b[0m\u001b[0;34m[\u001b[0m\u001b[0;34m\"get_indexer\"\u001b[0m\u001b[0;34m]\u001b[0m\u001b[0;34m)\u001b[0m\u001b[0;34m\u001b[0m\u001b[0;34m\u001b[0m\u001b[0m\n",
            "\u001b[0;32m/usr/local/lib/python3.6/dist-packages/pandas/core/indexes/base.py\u001b[0m in \u001b[0;36mget_loc\u001b[0;34m(self, key, method, tolerance)\u001b[0m\n\u001b[1;32m   2646\u001b[0m                 \u001b[0;32mreturn\u001b[0m \u001b[0mself\u001b[0m\u001b[0;34m.\u001b[0m\u001b[0m_engine\u001b[0m\u001b[0;34m.\u001b[0m\u001b[0mget_loc\u001b[0m\u001b[0;34m(\u001b[0m\u001b[0mkey\u001b[0m\u001b[0;34m)\u001b[0m\u001b[0;34m\u001b[0m\u001b[0;34m\u001b[0m\u001b[0m\n\u001b[1;32m   2647\u001b[0m             \u001b[0;32mexcept\u001b[0m \u001b[0mKeyError\u001b[0m\u001b[0;34m:\u001b[0m\u001b[0;34m\u001b[0m\u001b[0;34m\u001b[0m\u001b[0m\n\u001b[0;32m-> 2648\u001b[0;31m                 \u001b[0;32mreturn\u001b[0m \u001b[0mself\u001b[0m\u001b[0;34m.\u001b[0m\u001b[0m_engine\u001b[0m\u001b[0;34m.\u001b[0m\u001b[0mget_loc\u001b[0m\u001b[0;34m(\u001b[0m\u001b[0mself\u001b[0m\u001b[0;34m.\u001b[0m\u001b[0m_maybe_cast_indexer\u001b[0m\u001b[0;34m(\u001b[0m\u001b[0mkey\u001b[0m\u001b[0;34m)\u001b[0m\u001b[0;34m)\u001b[0m\u001b[0;34m\u001b[0m\u001b[0;34m\u001b[0m\u001b[0m\n\u001b[0m\u001b[1;32m   2649\u001b[0m         \u001b[0mindexer\u001b[0m \u001b[0;34m=\u001b[0m \u001b[0mself\u001b[0m\u001b[0;34m.\u001b[0m\u001b[0mget_indexer\u001b[0m\u001b[0;34m(\u001b[0m\u001b[0;34m[\u001b[0m\u001b[0mkey\u001b[0m\u001b[0;34m]\u001b[0m\u001b[0;34m,\u001b[0m \u001b[0mmethod\u001b[0m\u001b[0;34m=\u001b[0m\u001b[0mmethod\u001b[0m\u001b[0;34m,\u001b[0m \u001b[0mtolerance\u001b[0m\u001b[0;34m=\u001b[0m\u001b[0mtolerance\u001b[0m\u001b[0;34m)\u001b[0m\u001b[0;34m\u001b[0m\u001b[0;34m\u001b[0m\u001b[0m\n\u001b[1;32m   2650\u001b[0m         \u001b[0;32mif\u001b[0m \u001b[0mindexer\u001b[0m\u001b[0;34m.\u001b[0m\u001b[0mndim\u001b[0m \u001b[0;34m>\u001b[0m \u001b[0;36m1\u001b[0m \u001b[0;32mor\u001b[0m \u001b[0mindexer\u001b[0m\u001b[0;34m.\u001b[0m\u001b[0msize\u001b[0m \u001b[0;34m>\u001b[0m \u001b[0;36m1\u001b[0m\u001b[0;34m:\u001b[0m\u001b[0;34m\u001b[0m\u001b[0;34m\u001b[0m\u001b[0m\n",
            "\u001b[0;32mpandas/_libs/index.pyx\u001b[0m in \u001b[0;36mpandas._libs.index.IndexEngine.get_loc\u001b[0;34m()\u001b[0m\n",
            "\u001b[0;32mpandas/_libs/index.pyx\u001b[0m in \u001b[0;36mpandas._libs.index.IndexEngine.get_loc\u001b[0;34m()\u001b[0m\n",
            "\u001b[0;32mpandas/_libs/index_class_helper.pxi\u001b[0m in \u001b[0;36mpandas._libs.index.Int64Engine._check_type\u001b[0;34m()\u001b[0m\n",
            "\u001b[0;31mKeyError\u001b[0m: 'ciudad_de_ubicaci_n'"
          ]
        }
      ]
    },
    {
      "cell_type": "markdown",
      "metadata": {
        "id": "k71O6fSkD-5J",
        "colab_type": "text"
      },
      "source": [
        "## *Análisis Descriptivo*\n",
        "\n",
        "A continuación exploraremos los datos con el propósito es encontrar anomalías, patrones, tendencias o relaciones que nos puedan servir para tomar la decisión de que modelo utilizar"
      ]
    },
    {
      "cell_type": "code",
      "metadata": {
        "id": "yawPWVw9Jaj4",
        "colab_type": "code",
        "colab": {
          "base_uri": "https://localhost:8080/",
          "height": 337
        },
        "outputId": "7af4f943-cae6-4488-cb06-1087160d398e"
      },
      "source": [
        "df_fnal.groupby('Ciudad').max()[\"Casos_Diagnostico\"].plot(kind='bar', title = 'Total diagnosticos por Ciudad')"
      ],
      "execution_count": null,
      "outputs": [
        {
          "output_type": "execute_result",
          "data": {
            "text/plain": [
              "<matplotlib.axes._subplots.AxesSubplot at 0x7f5158268128>"
            ]
          },
          "metadata": {
            "tags": []
          },
          "execution_count": 40
        },
        {
          "output_type": "display_data",
          "data": {
            "image/png": "[encoded data removed]",
            "text/plain": [
              "<Figure size 720x252 with 1 Axes>"
            ]
          },
          "metadata": {
            "tags": [],
            "needs_background": "light"
          }
        }
      ]
    },
    {
      "cell_type": "markdown",
      "metadata": {
        "id": "wlw2jF99Jpn0",
        "colab_type": "text"
      },
      "source": [
        "De las cinco ciudades, Bogotá representa aproximadamente el 63% de los casos.\n"
      ]
    },
    {
      "cell_type": "code",
      "metadata": {
        "id": "pMXcebqTwV9h",
        "colab_type": "code",
        "colab": {
          "base_uri": "https://localhost:8080/",
          "height": 261
        },
        "outputId": "2b84d6e5-a3f8-4eca-d9ed-cf1167fda0df"
      },
      "source": [
        "# Numero de casos de diagnostico agrupado por Ciudad:\n",
        "plt.rcParams[\"figure.figsize\"] = (10,3.5)\n",
        "casos = df_fnal.groupby(['Mes', 'Ciudad']).max()[\"Casos_Diagnostico\"].unstack()\n",
        "# genera el gráfico:\n",
        "casos.plot(kind=\"bar\", title = ' Casos Diagnosticados por Ciudad ')\n",
        "plt.tight_layout() "
      ],
      "execution_count": null,
      "outputs": [
        {
          "output_type": "display_data",
          "data": {
            "image/png": "[encoded data removed]",
            "text/plain": [
              "<Figure size 720x252 with 1 Axes>"
            ]
          },
          "metadata": {
            "tags": [],
            "needs_background": "light"
          }
        }
      ]
    },
    {
      "cell_type": "markdown",
      "metadata": {
        "colab_type": "text",
        "id": "9IFV6H-f377x"
      },
      "source": [
        "Hoy las ciudades presentan los siguientes porcentajes de casos diagnosticados:"
      ]
    },
    {
      "cell_type": "code",
      "metadata": {
        "id": "mciyYUMbdreY",
        "colab_type": "code",
        "colab": {
          "base_uri": "https://localhost:8080/",
          "height": 230
        },
        "outputId": "9c9bb0cf-f4fd-4687-e5d4-5584ce65c9ff"
      },
      "source": [
        "df_fnal.groupby(['Ciudad']).Casos_Diagnostico.max().to_frame(name=\"Porcentaje caso diagnostico\").apply(lambda x: round( x/x.sum()*100)) "
      ],
      "execution_count": null,
      "outputs": [
        {
          "output_type": "execute_result",
          "data": {
            "text/html": [
              "<div>\n",
              "<style scoped>\n",
              "    .dataframe tbody tr th:only-of-type {\n",
              "        vertical-align: middle;\n",
              "    }\n",
              "\n",
              "    .dataframe tbody tr th {\n",
              "        vertical-align: top;\n",
              "    }\n",
              "\n",
              "    .dataframe thead th {\n",
              "        text-align: right;\n",
              "    }\n",
              "</style>\n",
              "<table border=\"1\" class=\"dataframe\">\n",
              "  <thead>\n",
              "    <tr style=\"text-align: right;\">\n",
              "      <th></th>\n",
              "      <th>Porcentaje caso diagnostico</th>\n",
              "    </tr>\n",
              "    <tr>\n",
              "      <th>Ciudad</th>\n",
              "      <th></th>\n",
              "    </tr>\n",
              "  </thead>\n",
              "  <tbody>\n",
              "    <tr>\n",
              "      <th>Barranquilla</th>\n",
              "      <td>10.0</td>\n",
              "    </tr>\n",
              "    <tr>\n",
              "      <th>Bogotá D.C.</th>\n",
              "      <td>63.0</td>\n",
              "    </tr>\n",
              "    <tr>\n",
              "      <th>Cali</th>\n",
              "      <td>11.0</td>\n",
              "    </tr>\n",
              "    <tr>\n",
              "      <th>Medellín</th>\n",
              "      <td>14.0</td>\n",
              "    </tr>\n",
              "    <tr>\n",
              "      <th>Pereira</th>\n",
              "      <td>1.0</td>\n",
              "    </tr>\n",
              "  </tbody>\n",
              "</table>\n",
              "</div>"
            ],
            "text/plain": [
              "              Porcentaje caso diagnostico\n",
              "Ciudad                                   \n",
              "Barranquilla                         10.0\n",
              "Bogotá D.C.                          63.0\n",
              "Cali                                 11.0\n",
              "Medellín                             14.0\n",
              "Pereira                               1.0"
            ]
          },
          "metadata": {
            "tags": []
          },
          "execution_count": 42
        }
      ]
    },
    {
      "cell_type": "code",
      "metadata": {
        "id": "ugL8pvpx92AR",
        "colab_type": "code",
        "colab": {
          "base_uri": "https://localhost:8080/",
          "height": 261
        },
        "outputId": "1654df20-43a1-487f-be9e-895b8fbdbffe"
      },
      "source": [
        "# Numero de casos de recuperados agrupado por Ciudad:\n",
        "plt.rcParams[\"figure.figsize\"] = (10,3.5)\n",
        "casos = df_fnal.groupby(['Mes', 'Ciudad']).max()[\"Casos_Recuperado\"].unstack()\n",
        "# genera el gráfico:\n",
        "casos.plot(kind=\"bar\", title = ' Casos Recuperados por Ciudad ')\n",
        "plt.tight_layout() "
      ],
      "execution_count": null,
      "outputs": [
        {
          "output_type": "display_data",
          "data": {
            "image/png": "[encoded data removed]",
            "text/plain": [
              "<Figure size 720x252 with 1 Axes>"
            ]
          },
          "metadata": {
            "tags": [],
            "needs_background": "light"
          }
        }
      ]
    },
    {
      "cell_type": "markdown",
      "metadata": {
        "id": "eQIIkH1R3PCT",
        "colab_type": "text"
      },
      "source": [
        "Hoy las ciudades presentan los siguientes porcentajes de recuperación:"
      ]
    },
    {
      "cell_type": "code",
      "metadata": {
        "id": "WL7T833Pd6fh",
        "colab_type": "code",
        "colab": {
          "base_uri": "https://localhost:8080/",
          "height": 230
        },
        "outputId": "763840b2-5b8b-495e-e79a-82700217f3a5"
      },
      "source": [
        "df_fnal.groupby(['Ciudad']).Casos_Recuperado.max().to_frame(name=\"Porcentaje caso Recuperado\").apply(lambda x: round( x/x.sum()*100)) \n",
        "\n",
        "\n"
      ],
      "execution_count": null,
      "outputs": [
        {
          "output_type": "execute_result",
          "data": {
            "text/html": [
              "<div>\n",
              "<style scoped>\n",
              "    .dataframe tbody tr th:only-of-type {\n",
              "        vertical-align: middle;\n",
              "    }\n",
              "\n",
              "    .dataframe tbody tr th {\n",
              "        vertical-align: top;\n",
              "    }\n",
              "\n",
              "    .dataframe thead th {\n",
              "        text-align: right;\n",
              "    }\n",
              "</style>\n",
              "<table border=\"1\" class=\"dataframe\">\n",
              "  <thead>\n",
              "    <tr style=\"text-align: right;\">\n",
              "      <th></th>\n",
              "      <th>Porcentaje caso Recuperado</th>\n",
              "    </tr>\n",
              "    <tr>\n",
              "      <th>Ciudad</th>\n",
              "      <th></th>\n",
              "    </tr>\n",
              "  </thead>\n",
              "  <tbody>\n",
              "    <tr>\n",
              "      <th>Barranquilla</th>\n",
              "      <td>12.0</td>\n",
              "    </tr>\n",
              "    <tr>\n",
              "      <th>Bogotá D.C.</th>\n",
              "      <td>60.0</td>\n",
              "    </tr>\n",
              "    <tr>\n",
              "      <th>Cali</th>\n",
              "      <td>12.0</td>\n",
              "    </tr>\n",
              "    <tr>\n",
              "      <th>Medellín</th>\n",
              "      <td>15.0</td>\n",
              "    </tr>\n",
              "    <tr>\n",
              "      <th>Pereira</th>\n",
              "      <td>1.0</td>\n",
              "    </tr>\n",
              "  </tbody>\n",
              "</table>\n",
              "</div>"
            ],
            "text/plain": [
              "              Porcentaje caso Recuperado\n",
              "Ciudad                                  \n",
              "Barranquilla                        12.0\n",
              "Bogotá D.C.                         60.0\n",
              "Cali                                12.0\n",
              "Medellín                            15.0\n",
              "Pereira                              1.0"
            ]
          },
          "metadata": {
            "tags": []
          },
          "execution_count": 44
        }
      ]
    },
    {
      "cell_type": "code",
      "metadata": {
        "id": "XHgl_NoMep1F",
        "colab_type": "code",
        "colab": {
          "base_uri": "https://localhost:8080/",
          "height": 261
        },
        "outputId": "2f1bf101-9524-4e3c-f4c9-cbb34231adf2"
      },
      "source": [
        "# Numero de casos de recuperados agrupado por Ciudad:\n",
        "plt.rcParams[\"figure.figsize\"] = (10,3.5)\n",
        "casos = df_fnal.groupby(['Mes', 'Ciudad']).max()[\"Casos_Muerte\"].unstack()\n",
        "# genera el gráfico:\n",
        "casos.plot(kind=\"bar\", title = ' Casos de Muerte por Ciudad ')\n",
        "plt.tight_layout() "
      ],
      "execution_count": null,
      "outputs": [
        {
          "output_type": "display_data",
          "data": {
            "image/png": "[encoded data removed]",
            "text/plain": [
              "<Figure size 720x252 with 1 Axes>"
            ]
          },
          "metadata": {
            "tags": [],
            "needs_background": "light"
          }
        }
      ]
    },
    {
      "cell_type": "markdown",
      "metadata": {
        "id": "B6LD11zz4diz",
        "colab_type": "text"
      },
      "source": [
        "Hoy las ciudades presentan los siguientes casos de muerte:"
      ]
    },
    {
      "cell_type": "code",
      "metadata": {
        "id": "Lq0fqANOe2Hy",
        "colab_type": "code",
        "colab": {
          "base_uri": "https://localhost:8080/",
          "height": 230
        },
        "outputId": "bfe1efc6-983e-4a50-c02d-872e1e8d4a4a"
      },
      "source": [
        "df_fnal.groupby(['Ciudad']).Casos_Muerte.max().to_frame(name=\"Porcentaje casos Muerte\").apply(lambda x: round( x/x.sum()*100))"
      ],
      "execution_count": null,
      "outputs": [
        {
          "output_type": "execute_result",
          "data": {
            "text/html": [
              "<div>\n",
              "<style scoped>\n",
              "    .dataframe tbody tr th:only-of-type {\n",
              "        vertical-align: middle;\n",
              "    }\n",
              "\n",
              "    .dataframe tbody tr th {\n",
              "        vertical-align: top;\n",
              "    }\n",
              "\n",
              "    .dataframe thead th {\n",
              "        text-align: right;\n",
              "    }\n",
              "</style>\n",
              "<table border=\"1\" class=\"dataframe\">\n",
              "  <thead>\n",
              "    <tr style=\"text-align: right;\">\n",
              "      <th></th>\n",
              "      <th>Porcentaje casos Muerte</th>\n",
              "    </tr>\n",
              "    <tr>\n",
              "      <th>Ciudad</th>\n",
              "      <th></th>\n",
              "    </tr>\n",
              "  </thead>\n",
              "  <tbody>\n",
              "    <tr>\n",
              "      <th>Barranquilla</th>\n",
              "      <td>16.0</td>\n",
              "    </tr>\n",
              "    <tr>\n",
              "      <th>Bogotá D.C.</th>\n",
              "      <td>59.0</td>\n",
              "    </tr>\n",
              "    <tr>\n",
              "      <th>Cali</th>\n",
              "      <td>14.0</td>\n",
              "    </tr>\n",
              "    <tr>\n",
              "      <th>Medellín</th>\n",
              "      <td>10.0</td>\n",
              "    </tr>\n",
              "    <tr>\n",
              "      <th>Pereira</th>\n",
              "      <td>1.0</td>\n",
              "    </tr>\n",
              "  </tbody>\n",
              "</table>\n",
              "</div>"
            ],
            "text/plain": [
              "              Porcentaje casos Muerte\n",
              "Ciudad                               \n",
              "Barranquilla                     16.0\n",
              "Bogotá D.C.                      59.0\n",
              "Cali                             14.0\n",
              "Medellín                         10.0\n",
              "Pereira                           1.0"
            ]
          },
          "metadata": {
            "tags": []
          },
          "execution_count": 46
        }
      ]
    },
    {
      "cell_type": "code",
      "metadata": {
        "id": "Bq96BcuSnEYX",
        "colab_type": "code",
        "colab": {
          "base_uri": "https://localhost:8080/",
          "height": 267
        },
        "outputId": "006c3be3-82be-4ba6-c214-c14faa5fab80"
      },
      "source": [
        "df_fnal.groupby('Mes').max()[\"Casos_Diagnostico\"].plot(kind='bar')"
      ],
      "execution_count": null,
      "outputs": [
        {
          "output_type": "execute_result",
          "data": {
            "text/plain": [
              "<matplotlib.axes._subplots.AxesSubplot at 0x7f5173909b00>"
            ]
          },
          "metadata": {
            "tags": []
          },
          "execution_count": 47
        },
        {
          "output_type": "display_data",
          "data": {
            "image/png": "[encoded data removed]",
            "text/plain": [
              "<Figure size 720x252 with 1 Axes>"
            ]
          },
          "metadata": {
            "tags": [],
            "needs_background": "light"
          }
        }
      ]
    },
    {
      "cell_type": "code",
      "metadata": {
        "id": "Y5h7vxFmlWvA",
        "colab_type": "code",
        "colab": {
          "base_uri": "https://localhost:8080/",
          "height": 35
        },
        "outputId": "ed09e931-e260-49c5-d99d-83846374dbb3"
      },
      "source": [
        "df_fnal.groupby(['Mes']).Casos_Diagnostico.max()\n",
        "print('Al dia de hoy hay ' + str(df_fnal['Casos_Diagnostico'].max())+ ' casos diagnosticados en las cinco ciudades')"
      ],
      "execution_count": null,
      "outputs": [
        {
          "output_type": "stream",
          "text": [
            "Al dia de hoy hay 221738 casos diagnosticados en las cinco ciudades\n"
          ],
          "name": "stdout"
        }
      ]
    },
    {
      "cell_type": "code",
      "metadata": {
        "id": "o4renbbqK_18",
        "colab_type": "code",
        "colab": {}
      },
      "source": [
        "med =df_fnal[df_fnal['Ciudad']=='Medellín']\n",
        "bar =df_fnal[df_fnal['Ciudad']=='Barranquilla']\n",
        "bog =df_fnal[df_fnal['Ciudad']=='Bogotá D.C.']\n",
        "cal =df_fnal[df_fnal['Ciudad']=='Cali']\n",
        "per =df_fnal[df_fnal['Ciudad']=='Pereira']"
      ],
      "execution_count": null,
      "outputs": []
    },
    {
      "cell_type": "code",
      "metadata": {
        "id": "uJ6iDX9GpOOo",
        "colab_type": "code",
        "colab": {
          "base_uri": "https://localhost:8080/",
          "height": 268
        },
        "outputId": "2373c855-967d-43df-dee8-4e4bc324cef5"
      },
      "source": [
        "plt.rcParams[\"figure.figsize\"] = (10,3.5)\n",
        "med.groupby('Mes').max()[\"Casos_Diagnostico\"].plot(kind='line',label='Medellin', title = 'Diagnosticos mes a mes por ciudad ')\n",
        "bar.groupby('Mes').max()[\"Casos_Diagnostico\"].plot(kind='line',label='Barranquilla')\n",
        "bog.groupby('Mes').max()[\"Casos_Diagnostico\"].plot(kind='line',label='Bogota')\n",
        "cal.groupby('Mes').max()[\"Casos_Diagnostico\"].plot(kind='line',label='Cali')\n",
        "per.groupby('Mes').max()[\"Casos_Diagnostico\"].plot(kind='line',label='Pereira')\n",
        "plt.legend()\n",
        "plt.show()"
      ],
      "execution_count": null,
      "outputs": [
        {
          "output_type": "display_data",
          "data": {
            "image/png": "[encoded data removed]",
            "text/plain": [
              "<Figure size 720x252 with 1 Axes>"
            ]
          },
          "metadata": {
            "tags": [],
            "needs_background": "light"
          }
        }
      ]
    },
    {
      "cell_type": "markdown",
      "metadata": {
        "id": "XPtE4fLzqkLQ",
        "colab_type": "text"
      },
      "source": [
        "En los casos de diagnosticos se puede observar el crecimiento exponencial en la ciudad de Bogotá entre el mes 6 y 8, con respecto a las demás ciudades, tambien se puede observar el aplanamiento de la curva entre el mes 8 y el mes 9"
      ]
    },
    {
      "cell_type": "code",
      "metadata": {
        "id": "qEwI0MkYpj7T",
        "colab_type": "code",
        "colab": {
          "base_uri": "https://localhost:8080/",
          "height": 268
        },
        "outputId": "bbd1cb94-c79f-4bd1-e551-b7396e7cbbda"
      },
      "source": [
        "plt.rcParams[\"figure.figsize\"] = (10,3.5)\n",
        "med.groupby('Mes').max()[\"Casos_Recuperado\"].plot(kind='line',label='Medellin', title = 'Casos recuperados mes a mes por ciudad ')\n",
        "bar.groupby('Mes').max()[\"Casos_Recuperado\"].plot(kind='line',label='Barranquilla')\n",
        "bog.groupby('Mes').max()[\"Casos_Recuperado\"].plot(kind='line',label='Bogota')\n",
        "cal.groupby('Mes').max()[\"Casos_Recuperado\"].plot(kind='line',label='Cali')\n",
        "per.groupby('Mes').max()[\"Casos_Recuperado\"].plot(kind='line',label='Pereira')\n",
        "plt.legend()\n",
        "plt.show()"
      ],
      "execution_count": null,
      "outputs": [
        {
          "output_type": "display_data",
          "data": {
            "image/png": "[encoded data removed]",
            "text/plain": [
              "<Figure size 720x252 with 1 Axes>"
            ]
          },
          "metadata": {
            "tags": [],
            "needs_background": "light"
          }
        }
      ]
    },
    {
      "cell_type": "markdown",
      "metadata": {
        "id": "O2_8zpbxp039",
        "colab_type": "text"
      },
      "source": [
        "En los casos de recuperación se puede observar el crecimiento en la ciudad de Bogotá entre el mes 6 y 8, con respecto a las demás ciudades, tambien se puede observar que la ciudad de Medellín aumenta en los casos recuperados del mes 8 al 9, con respecto a Barranquilla, Cali y Pereira"
      ]
    },
    {
      "cell_type": "code",
      "metadata": {
        "id": "z1LdmjofpTMa",
        "colab_type": "code",
        "colab": {
          "base_uri": "https://localhost:8080/",
          "height": 268
        },
        "outputId": "dc974e1e-e830-48b4-f448-10283be4c528"
      },
      "source": [
        "plt.rcParams[\"figure.figsize\"] = (10,3.5)\n",
        "med.groupby('Mes').max()[\"Casos_Muerte\"].plot(kind='line',label='Medellin', title = 'Casos de muertes mes a mes por ciudad ')\n",
        "bar.groupby('Mes').max()[\"Casos_Muerte\"].plot(kind='line',label='Barranquilla')\n",
        "bog.groupby('Mes').max()[\"Casos_Muerte\"].plot(kind='line',label='Bogota')\n",
        "cal.groupby('Mes').max()[\"Casos_Muerte\"].plot(kind='line',label='Cali')\n",
        "per.groupby('Mes').max()[\"Casos_Muerte\"].plot(kind='line',label='Pereira')\n",
        "plt.legend()\n",
        "plt.show()"
      ],
      "execution_count": null,
      "outputs": [
        {
          "output_type": "display_data",
          "data": {
            "image/png": "[encoded data removed]",
            "text/plain": [
              "<Figure size 720x252 with 1 Axes>"
            ]
          },
          "metadata": {
            "tags": [],
            "needs_background": "light"
          }
        }
      ]
    },
    {
      "cell_type": "markdown",
      "metadata": {
        "id": "HxU9RmEKwhBu",
        "colab_type": "text"
      },
      "source": [
        "En los casos de Muertes se observa que después de Bogotá esta la ciudad de Barranquilla con más muertes, le sigue Cali, Medellín y Pereira"
      ]
    },
    {
      "cell_type": "markdown",
      "metadata": {
        "id": "REzQ-aiZKmta",
        "colab_type": "text"
      },
      "source": [
        "## *Aplicación del modelo SIR*\n",
        "\n",
        "El modelo SIR es uno de los modelos epidemiológicos más simples capaces de capturar muchas de las características típicas de los brotes epidémicos. El nombre del modelo proviene de las iniciales S (población susceptible), I (población infectada) y R (población recuperada). El modelo relaciona las variaciones de las tres poblaciones (Susceptible, Infectada y Recuperada) a través de la tasa de infección y el período infeccioso promedio."
      ]
    },
    {
      "cell_type": "markdown",
      "metadata": {
        "id": "GMzSExL2uSB7",
        "colab_type": "text"
      },
      "source": [
        "Creamos una función para organizar la base de datos y calcular las tasas de contagio, muerte y recuperación"
      ]
    },
    {
      "cell_type": "code",
      "metadata": {
        "id": "19M-dLQEyghw",
        "colab_type": "code",
        "colab": {}
      },
      "source": [
        "def Agrupacion(df,Ciudad,Pobla,Tipo):\n",
        "\n",
        "  ## Aquí se agrupan los casos por fecha y por ciudad para determinar las varibles necesarias para el modelo SIR\n",
        "\n",
        "  df_Ciudad=df[df['ciudad_de_ubicaci_n']==Ciudad]\n",
        "  df1=df_Ciudad.groupby(['fecha_reporte_web']).size().cumsum().to_frame(name = 'Casos_Diagnostico'+Tipo).reset_index()\n",
        "  df1=df1.rename(columns={'fecha_reporte_web': 'Fecha'})\n",
        "  df2=df_Ciudad.groupby(['fecha_recuperado']).size().cumsum().to_frame(name = 'Casos_Recuperado'+Tipo).reset_index()\n",
        "  df2=df2.rename(columns={'fecha_recuperado': 'Fecha'})\n",
        "\n",
        "  ## Se excluyen los datos donde se tiene fecha de recuperado  y además, fecha de muerte\n",
        "\n",
        "  df3=df_Ciudad[df_Ciudad.fecha_recuperado.isnull()].groupby(['fecha_de_muerte']).size().cumsum().to_frame(name = 'Casos_Muerte'+Tipo).reset_index()\n",
        "  df3=df3.rename(columns={'fecha_de_muerte': 'Fecha'})\n",
        "\n",
        "  ## Aquí se concatenan las tablas de casos diagnosticados, recuperados y muertes\n",
        "\n",
        "  df_Ciudad=pd.merge(df1, df2, on='Fecha',how='left')\n",
        "  df_Ciudad=pd.merge(df_Ciudad, df3, on='Fecha',how='left')\n",
        "\n",
        "  ## Aquí se ordena por fecha\n",
        "\n",
        "  df_Ciudad.sort_values('Fecha')\n",
        "\n",
        "  ## Aquí se llenan los datos vacíos copiando el dato anterior\n",
        "\n",
        "  df_Ciudad=df_Ciudad.fillna(method='ffill')\n",
        "\n",
        "  ## Aquí se llenan los datos vacíos que no tienen datos anteriores\n",
        "\n",
        "  df_Ciudad=df_Ciudad.fillna(0)\n",
        "\n",
        "  ## Cáculo de casos activos\n",
        "\n",
        "  df_Ciudad[\"Casos_Activos\"+ Tipo]=df_Ciudad[\"Casos_Diagnostico\"+ Tipo]-df_Ciudad[\"Casos_Recuperado\"+ Tipo]-df_Ciudad[\"Casos_Muerte\"+ Tipo]\n",
        " \n",
        "  ## Cáculo de tasas de contagio, recuperación y muerte\n",
        "\n",
        "  df_Ciudad[\"Tasa_Contagio\"+ Tipo]=\"\"\n",
        "  for k in range(len(df_Ciudad['Fecha'])-1):\n",
        "    df_Ciudad[\"Tasa_Contagio\"+ Tipo][k+1]=(df_Ciudad['Casos_Diagnostico'+ Tipo][k+1]-df_Ciudad['Casos_Diagnostico'+ Tipo][k])*Pobla/(df_Ciudad['Casos_Activos'+ Tipo][k]*(Pobla-df_Ciudad['Casos_Diagnostico'+ Tipo][k]))\n",
        "\n",
        "  df_Ciudad[\"Tasa_Recuperacion\"+ Tipo]=\"\"\n",
        "  for k in range(len(df_Ciudad['Fecha'])-1):\n",
        "    df_Ciudad[\"Tasa_Recuperacion\"+ Tipo][k+1]=(df_Ciudad['Casos_Recuperado'+ Tipo][k+1]-df_Ciudad['Casos_Recuperado'+ Tipo][k])/(df_Ciudad['Casos_Activos'+ Tipo][k])\n",
        "\n",
        "  df_Ciudad[\"Tasa_Muerte\"+Tipo]=\"\"\n",
        "  for k in range(len(df_Ciudad['Fecha'])-1):\n",
        "    df_Ciudad[\"Tasa_Muerte\"+ Tipo][k+1]=(df_Ciudad['Casos_Muerte'+ Tipo][k+1]-df_Ciudad['Casos_Muerte'+ Tipo][k])/(df_Ciudad['Casos_Activos'+ Tipo][k])\n",
        "\n",
        "  ## Aquí se establece la tasa para la predicción a partir de los últimos datos: promedio, promedio más 2 veces desviación estándar y promedio menos 2 veces desviación estándar\n",
        "\n",
        "  if Tipo == '': \n",
        "    Tasa_Contagio=df_Ciudad[\"Tasa_Contagio\"+Tipo][-25:].mean()\n",
        "    Tasa_Recuperacion=df_Ciudad[\"Tasa_Recuperacion\"+Tipo][-25:].mean()\n",
        "    Tasa_Muerte=df_Ciudad[\"Tasa_Muerte\"+Tipo][-25:].mean()\n",
        "  elif Tipo == '_Max':\n",
        "    Tasa_Contagio=np.std(df_Ciudad[\"Tasa_Contagio_Max\"][-25:])*2+df_Ciudad[\"Tasa_Contagio_Max\"][-25:].mean()\n",
        "    Tasa_Recuperacion=np.std(df_Ciudad[\"Tasa_Recuperacion_Max\"][-25:])*2+df_Ciudad[\"Tasa_Recuperacion_Max\"][-25:].mean()\n",
        "    Tasa_Muerte=np.std(df_Ciudad[\"Tasa_Muerte_Max\"][-25:])*2+df_Ciudad[\"Tasa_Muerte_Max\"][-25:].mean()            \n",
        "  elif Tipo == '_Min':\n",
        "    Tasa_Contagio=np.std(df_Ciudad[\"Tasa_Contagio_Min\"][-25:])*(-2)+df_Ciudad[\"Tasa_Contagio_Min\"][-25:].mean()\n",
        "    Tasa_Recuperacion=np.std(df_Ciudad[\"Tasa_Recuperacion_Min\"][-25:])*(-2)+df_Ciudad[\"Tasa_Recuperacion_Min\"][-25:].mean()\n",
        "    Tasa_Muerte=np.std(df_Ciudad[\"Tasa_Muerte_Min\"][-25:])*(-2)+df_Ciudad[\"Tasa_Muerte_Min\"][-25:].mean()\n",
        "        \n",
        "  ## Aquí se aplica la predicción y se va llenando el dataframe\n",
        "\n",
        "  Lista=[]\n",
        "  for k in range(30):\n",
        "    \n",
        "    Lista_fecha=df_Ciudad['Fecha'][len(df_Ciudad)-1] + datetime.timedelta(days=1)\n",
        "    Lista_casos=(Tasa_Contagio*df_Ciudad[\"Casos_Activos\"+ Tipo][len(df_Ciudad)-1]*(Pobla-df_Ciudad[\"Casos_Diagnostico\"+ Tipo][len(df_Ciudad)-1])/Pobla)\n",
        "    Lista_recuperados=Tasa_Recuperacion*df_Ciudad[\"Casos_Activos\"+ Tipo][len(df_Ciudad)-1]\n",
        "    Lista_muertes=Tasa_Muerte*df_Ciudad[\"Casos_Activos\"+ Tipo][len(df_Ciudad)-1]\n",
        "\n",
        "   ## Aquí se incluyen reglas de coherencia de datos\n",
        "\n",
        "    if Lista_casos>Pobla:\n",
        "      break\n",
        "    elif Lista_casos<0:\n",
        "      Lista_casos=df_Ciudad[\"Casos_Diagnostico\"+ Tipo][len(df_Ciudad)-1]\n",
        "    else:\n",
        "      Lista_casos=Lista_casos+df_Ciudad[\"Casos_Diagnostico\"+ Tipo][len(df_Ciudad)-1]\n",
        "    \n",
        "    if Lista_recuperados<0:\n",
        "      Lista_recuperados=df_Ciudad[\"Casos_Recuperado\"+ Tipo][len(df_Ciudad)-1]\n",
        "    else:\n",
        "      Lista_recuperados=Lista_recuperados+df_Ciudad[\"Casos_Recuperado\"+ Tipo][len(df_Ciudad)-1]\n",
        "    \n",
        "    if Lista_muertes<0:\n",
        "      Lista_muertes=df_Ciudad[\"Casos_Muerte\"+ Tipo][len(df_Ciudad)-1]\n",
        "    else:\n",
        "      Lista_muertes=Lista_muertes+df_Ciudad[\"Casos_Muerte\"+ Tipo][len(df_Ciudad)-1]\n",
        "    \n",
        "    Lista_activos=Lista_casos-Lista_recuperados-Lista_muertes\n",
        "    Lista=[[Lista_fecha,round(Lista_casos),round(Lista_recuperados),round(Lista_muertes),round(Lista_activos),None,None,None]]\n",
        "    \n",
        "\n",
        "    dfnuevo = pd.DataFrame(Lista, columns = [\"Fecha\",\"Casos_Diagnostico\"+ Tipo, \"Casos_Recuperado\"+ Tipo, \"Casos_Muerte\"+ Tipo,\"Casos_Activos\"+ Tipo,\"Tasa_Contagio\"+ Tipo,\"Tasa_Recuperacion\"+ Tipo,\"Tasa_Muerte\"+ Tipo])\n",
        "    df_Ciudad=pd.concat([df_Ciudad,dfnuevo], ignore_index=True)\n",
        "\n",
        "  ## Para mejor desempeño de Data Studio, se modifica el nombre \"Cali\" por \"Santiago de Cali\"\n",
        "\n",
        "  df_Ciudad[\"Pais\"]=\"Colombia\"\n",
        "  df_Ciudad[\"Ciudad\"]=Ciudad\n",
        "  \n",
        "  return df_Ciudad\n"
      ],
      "execution_count": null,
      "outputs": []
    },
    {
      "cell_type": "code",
      "metadata": {
        "id": "Hnd-r8k5mOcB",
        "colab_type": "code",
        "colab": {
          "base_uri": "https://localhost:8080/",
          "height": 250
        },
        "outputId": "a95bc564-fa88-4eb4-db22-7995d05a4a84"
      },
      "source": [
        "\n",
        "##Llamar la función y envio de total de población para cada ciudad (cifras DANE)\n",
        "    ##Se calcula una predicción con un maximo y mímino de las tasas dependientes en base al promedio\n",
        "Ciudades= [(\"Medellín\",2372330),(\"Bogotá D.C.\",7181469),(\"Santiago de Cali\",1822869),(\"Barranquilla\",1120103),(\"Pereira\",409670)]\n",
        "Tipo= [\"\",\"_Max\",\"_Min\"]\n",
        "for ti in Tipo:\n",
        "    for ci in Ciudades:\n",
        "      if ci[0]==\"Medellín\":\n",
        "        df_final=Agrupacion(df0,ci[0],ci[1],ti)\n",
        "      else:\n",
        "        df_concat=Agrupacion(df0,ci[0],ci[1],ti)\n",
        "        df_final=pd.concat([df_final, df_concat])\n",
        "\n",
        "    df_final[\"Fecha\"]=df_final[\"Fecha\"].dt.strftime(\"%Y/%m/%d\")\n",
        "    # df_final['Año']=df_final['Fecha'].dt.year\n",
        "    # df_final['Mes']=df_final['Fecha'].dt.month\n",
        "    # df_final['Día']=df_final['Fecha'].dt.day\n",
        "    df_final.to_csv('COVID19_COLOMBIA'+ ti.upper() + '.csv',index=False)"
      ],
      "execution_count": null,
      "outputs": [
        {
          "output_type": "stream",
          "text": [
            "/usr/local/lib/python3.6/dist-packages/ipykernel_launcher.py:41: SettingWithCopyWarning: \n",
            "A value is trying to be set on a copy of a slice from a DataFrame\n",
            "\n",
            "See the caveats in the documentation: https://pandas.pydata.org/pandas-docs/stable/user_guide/indexing.html#returning-a-view-versus-a-copy\n",
            "/usr/local/lib/python3.6/dist-packages/ipykernel_launcher.py:45: SettingWithCopyWarning: \n",
            "A value is trying to be set on a copy of a slice from a DataFrame\n",
            "\n",
            "See the caveats in the documentation: https://pandas.pydata.org/pandas-docs/stable/user_guide/indexing.html#returning-a-view-versus-a-copy\n",
            "/usr/local/lib/python3.6/dist-packages/ipykernel_launcher.py:49: SettingWithCopyWarning: \n",
            "A value is trying to be set on a copy of a slice from a DataFrame\n",
            "\n",
            "See the caveats in the documentation: https://pandas.pydata.org/pandas-docs/stable/user_guide/indexing.html#returning-a-view-versus-a-copy\n"
          ],
          "name": "stderr"
        }
      ]
    },
    {
      "cell_type": "code",
      "metadata": {
        "id": "WKeMLFNIKtTB",
        "colab_type": "code",
        "colab": {}
      },
      "source": [
        "import math\n",
        "import matplotlib.pyplot as plt\n",
        "import numpy as np"
      ],
      "execution_count": null,
      "outputs": []
    },
    {
      "cell_type": "markdown",
      "metadata": {
        "id": "N_mOSdp0t-S_",
        "colab_type": "text"
      },
      "source": [
        "# ****Análisis con el modelo de regresión****"
      ]
    },
    {
      "cell_type": "markdown",
      "metadata": {
        "id": "n4vHXGkmM8Iw",
        "colab_type": "text"
      },
      "source": [
        "En un analisis del problema se identifico que las caracterisiticas para entender el mismo no sugerian una solución de tipo clasificación o agrupación sino mas bien de un entendimiento de los datos a traves del tiempo, por lo cual se consideraron modelos con series de tiempo, regresiones o SIR, que representan el comportamiento de los datos vs la temporalidad de los mismos, a continuación presentamos un intento por generar el comportamiento y la predicción a partir de polinomios, donde se probo la predicción a corto y mediano plazo sin obtener una representación esperada de las variables. Por esta razón finalmente se opto por hacer uso del SIR."
      ]
    },
    {
      "cell_type": "code",
      "metadata": {
        "id": "cUKnDiQTLCJB",
        "colab_type": "code",
        "colab": {
          "base_uri": "https://localhost:8080/",
          "height": 392
        },
        "outputId": "281713e0-45f1-4ff7-a962-97013397dc24"
      },
      "source": [
        "Bog=Agrupacion(df0,\"Bogotá D.C.\",7181469,\"\")\n",
        "print(Bog.head(5))\n",
        "Bog=Bog[:-30]"
      ],
      "execution_count": null,
      "outputs": [
        {
          "output_type": "stream",
          "text": [
            "       Fecha  Casos_Diagnostico  ...      Pais       Ciudad\n",
            "0 2020-03-06                1.0  ...  Colombia  Bogotá D.C.\n",
            "1 2020-03-11                3.0  ...  Colombia  Bogotá D.C.\n",
            "2 2020-03-12                5.0  ...  Colombia  Bogotá D.C.\n",
            "3 2020-03-13                6.0  ...  Colombia  Bogotá D.C.\n",
            "4 2020-03-14               16.0  ...  Colombia  Bogotá D.C.\n",
            "\n",
            "[5 rows x 10 columns]\n"
          ],
          "name": "stdout"
        },
        {
          "output_type": "stream",
          "text": [
            "/usr/local/lib/python3.6/dist-packages/ipykernel_launcher.py:41: SettingWithCopyWarning: \n",
            "A value is trying to be set on a copy of a slice from a DataFrame\n",
            "\n",
            "See the caveats in the documentation: https://pandas.pydata.org/pandas-docs/stable/user_guide/indexing.html#returning-a-view-versus-a-copy\n",
            "/usr/local/lib/python3.6/dist-packages/ipykernel_launcher.py:45: SettingWithCopyWarning: \n",
            "A value is trying to be set on a copy of a slice from a DataFrame\n",
            "\n",
            "See the caveats in the documentation: https://pandas.pydata.org/pandas-docs/stable/user_guide/indexing.html#returning-a-view-versus-a-copy\n",
            "/usr/local/lib/python3.6/dist-packages/ipykernel_launcher.py:49: SettingWithCopyWarning: \n",
            "A value is trying to be set on a copy of a slice from a DataFrame\n",
            "\n",
            "See the caveats in the documentation: https://pandas.pydata.org/pandas-docs/stable/user_guide/indexing.html#returning-a-view-versus-a-copy\n"
          ],
          "name": "stderr"
        }
      ]
    },
    {
      "cell_type": "code",
      "metadata": {
        "id": "v6Nm4C6gK-Mm",
        "colab_type": "code",
        "colab": {}
      },
      "source": [
        "def model(N):\n",
        "    w = np.polyfit(Bog.index,Bog[\"Casos_Diagnostico\"], N)\n",
        "    return np.poly1d(w)"
      ],
      "execution_count": null,
      "outputs": []
    },
    {
      "cell_type": "code",
      "metadata": {
        "id": "GpbQHe19TFdt",
        "colab_type": "code",
        "colab": {}
      },
      "source": [
        "def modelo(N):\n",
        "    w = np.polyfit(Bog.index,Bog[\"Casos_Activos\"], N)\n",
        "    return np.poly1d(w)"
      ],
      "execution_count": null,
      "outputs": []
    },
    {
      "cell_type": "code",
      "metadata": {
        "id": "BmuB52QgLmFq",
        "colab_type": "code",
        "colab": {
          "base_uri": "https://localhost:8080/",
          "height": 263
        },
        "outputId": "f6f1f0d5-a461-4d24-b911-3c169a3b4cd0"
      },
      "source": [
        "\n",
        "history = []\n",
        "for n in range(1, 16):\n",
        "    m = modelo(n)\n",
        "    y_data = m(Bog.index)\n",
        "    history.append(sum((Bog[\"Casos_Diagnostico\"] - y_data) ** 2))\n",
        "plt.plot(range(1, len(history) + 1), history, \"o-\", color=\"k\")\n",
        "plt.xlabel(\"Grado del polinomio\")\n",
        "plt.ylabel(\"SSE\")\n",
        "plt.grid()\n",
        "plt.show()"
      ],
      "execution_count": null,
      "outputs": [
        {
          "output_type": "display_data",
          "data": {
            "image/png": "[encoded data removed]",
            "text/plain": [
              "<Figure size 720x252 with 1 Axes>"
            ]
          },
          "metadata": {
            "tags": [],
            "needs_background": "light"
          }
        }
      ]
    },
    {
      "cell_type": "code",
      "metadata": {
        "id": "eG1ITcNNMdO2",
        "colab_type": "code",
        "colab": {
          "base_uri": "https://localhost:8080/",
          "height": 1000
        },
        "outputId": "0c2a03b3-5d83-4dd6-aa53-db0178b4b53b"
      },
      "source": [
        "\n",
        "plt.figure(figsize=(11, 10))\n",
        "\n",
        "grados = list(range(1, 15))\n",
        "\n",
        "lista=[k for k in range(0,190)]\n",
        "\n",
        "for i, n in enumerate(grados):\n",
        "\n",
        "    m = modelo(n)\n",
        "    y_data = m(lista)\n",
        "\n",
        "    plt.subplot(5, 3, i + 1)\n",
        "    plt.plot(Bog.index, Bog[\"Casos_Activos\"], \".\", color=\"black\")\n",
        "    plt.plot(lista, y_data, color=\"red\")\n",
        "    plt.xlabel(n)\n",
        "    plt.show()"
      ],
      "execution_count": null,
      "outputs": [
        {
          "output_type": "display_data",
          "data": {
            "image/png": "[encoded data removed]",
            "text/plain": [
              "<Figure size 792x720 with 1 Axes>"
            ]
          },
          "metadata": {
            "tags": [],
            "needs_background": "light"
          }
        },
        {
          "output_type": "display_data",
          "data": {
            "image/png": "[encoded data removed]",
            "text/plain": [
              "<Figure size 720x252 with 1 Axes>"
            ]
          },
          "metadata": {
            "tags": [],
            "needs_background": "light"
          }
        },
        {
          "output_type": "display_data",
          "data": {
            "image/png": "[encoded data removed]",
            "text/plain": [
              "<Figure size 720x252 with 1 Axes>"
            ]
          },
          "metadata": {
            "tags": [],
            "needs_background": "light"
          }
        },
        {
          "output_type": "display_data",
          "data": {
            "image/png": "[encoded data removed]",
            "text/plain": [
              "<Figure size 720x252 with 1 Axes>"
            ]
          },
          "metadata": {
            "tags": [],
            "needs_background": "light"
          }
        },
        {
          "output_type": "display_data",
          "data": {
            "image/png": "[encoded data removed]",
            "text/plain": [
              "<Figure size 720x252 with 1 Axes>"
            ]
          },
          "metadata": {
            "tags": [],
            "needs_background": "light"
          }
        },
        {
          "output_type": "display_data",
          "data": {
            "image/png": "[encoded data removed]",
            "text/plain": [
              "<Figure size 720x252 with 1 Axes>"
            ]
          },
          "metadata": {
            "tags": [],
            "needs_background": "light"
          }
        },
        {
          "output_type": "display_data",
          "data": {
            "image/png": "[encoded data removed]",
            "text/plain": [
              "<Figure size 720x252 with 1 Axes>"
            ]
          },
          "metadata": {
            "tags": [],
            "needs_background": "light"
          }
        },
        {
          "output_type": "display_data",
          "data": {
            "image/png": "[encoded data removed]",
            "text/plain": [
              "<Figure size 720x252 with 1 Axes>"
            ]
          },
          "metadata": {
            "tags": [],
            "needs_background": "light"
          }
        },
        {
          "output_type": "display_data",
          "data": {
            "image/png": "[encoded data removed]",
            "text/plain": [
              "<Figure size 720x252 with 1 Axes>"
            ]
          },
          "metadata": {
            "tags": [],
            "needs_background": "light"
          }
        },
        {
          "output_type": "display_data",
          "data": {
            "image/png": "[encoded data removed]",
            "text/plain": [
              "<Figure size 720x252 with 1 Axes>"
            ]
          },
          "metadata": {
            "tags": [],
            "needs_background": "light"
          }
        },
        {
          "output_type": "display_data",
          "data": {
            "image/png": "[encoded data removed]",
            "text/plain": [
              "<Figure size 720x252 with 1 Axes>"
            ]
          },
          "metadata": {
            "tags": [],
            "needs_background": "light"
          }
        },
        {
          "output_type": "display_data",
          "data": {
            "image/png": "[encoded data removed]",
            "text/plain": [
              "<Figure size 720x252 with 1 Axes>"
            ]
          },
          "metadata": {
            "tags": [],
            "needs_background": "light"
          }
        },
        {
          "output_type": "display_data",
          "data": {
            "image/png": "[encoded data removed]",
            "text/plain": [
              "<Figure size 720x252 with 1 Axes>"
            ]
          },
          "metadata": {
            "tags": [],
            "needs_background": "light"
          }
        },
        {
          "output_type": "display_data",
          "data": {
            "image/png": "[encoded data removed]",
            "text/plain": [
              "<Figure size 720x252 with 1 Axes>"
            ]
          },
          "metadata": {
            "tags": [],
            "needs_background": "light"
          }
        }
      ]
    },
    {
      "cell_type": "markdown",
      "metadata": {
        "id": "1zezZIwgOKWa",
        "colab_type": "text"
      },
      "source": [
        "Al no usar modelos de clasificación no es necesario presentar metricas de calibración o intervalos de confianza sin embargo se presentan varios esecenarios ( hoja 2 dashboard), en una especie de analisis de sensibilidad cambiando los valores de las variables dependientes (tasas) con el fin de presentar la coherencia del modelo para predecir el comportamiento.\n",
        "\n",
        "\n",
        "\n"
      ]
    },
    {
      "cell_type": "markdown",
      "metadata": {
        "id": "mZRoWRbtRmxj",
        "colab_type": "text"
      },
      "source": [
        "## *Conclusiones*\n",
        "\n",
        " \n",
        "\n",
        "\n",
        "\n",
        "*   En la implementación del modelo de regresión polinomial se concluyó que la extrapolación con diferentes grados del modelo, presenta un comportamiento incoherente con respecto al esperado a mediano y largo plazo de  la predicción sin importar el grado del polinomio los resultados no  son concluyentes.\n",
        "\n",
        "*   Los modelos de clasificación no se tuvieron en cuenta ya que desde un análisis teórico del problema no consideramos la clasificación sino el análisis de  los modelos que relacionan el comportamiento de los datos con respecto a un periodo del tiempo, como las regresiones, series de tiempo y en su defecto el SIR. \n",
        "\n",
        "\n",
        "*  Despues del  proceso de limpieza y adecuación de la base de datos, se realizó el modelo de predicción del Covid-19 a través del método SIR, empleando tres escenarios o ambientes de simulación con los datos extrapolados a un mes para determinar el comportamiento de los casos activos, recuperados, diagnosticados y muertes; con los cuales logramos obtener que los comportamientos y resultados finales de la predicción del Covid-19 son coherentes con  la situación actual que se está viviendo en Colombia.\n",
        "\n",
        "*   Para tener en cuenta escenarios que se pueden ir dando en relación con la pandemia, se  analizan cambios en las  tasas de contagio, de recuperacion y muerte con el promedio de los últimos 25 días más dos veces la desviación estandar teniendo en cuenta  la finalización de la cuarentena obligatoria y el posible comportamiento indiferente  de las personas con respecto al mismo, de igual manera, se calculó el promedio de las tasas menos dos veces la desviación estandar para presentar un panorama donde la población sigue responsable y precavida frente al virus, es decir, se asume que se sigue aplicando el autocuidado.\n",
        "\n",
        "\n",
        "*   El modelo SIR se aplica en esta predicción dado que es uno de los modelos más adecuados para describir la dinámica de los contagios en una población con (N) individuos que inicialmente son susceptibles (S), luego  a partir del tiempo van pasando a ser infectados (I) y tras un periodo de enfermedad activa, los que no fallecen pasan a un estado de recuperados (R), por lo que la población susceptible va  reduciendo,todo esto en relación con un periodo de tiempo determinado. \n",
        "\n",
        "\n",
        "\n",
        "\n",
        "\n",
        " \n",
        "\n",
        "\n"
      ]
    }
  ]
}