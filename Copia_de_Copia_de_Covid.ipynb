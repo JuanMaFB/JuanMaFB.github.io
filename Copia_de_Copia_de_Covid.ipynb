{
  "nbformat": 4,
  "nbformat_minor": 0,
  "metadata": {
    "colab": {
      "name": "Copia de Copia de Covid.ipynb",
      "provenance": [],
      "collapsed_sections": [],
      "toc_visible": true,
      "include_colab_link": true
    },
    "kernelspec": {
      "name": "python3",
      "display_name": "Python 3"
    }
  },
  "cells": [
    {
      "cell_type": "markdown",
      "metadata": {
        "id": "view-in-github",
        "colab_type": "text"
      },
      "source": [
        "<a href=\"https://colab.research.google.com/github/JuanMaFB/JuanMaFB.github.io/blob/master/Copia_de_Copia_de_Covid.ipynb\" target=\"_parent\"><img src=\"https://colab.research.google.com/assets/colab-badge.svg\" alt=\"Open In Colab\"/></a>"
      ]
    },
    {
      "cell_type": "markdown",
      "metadata": {
        "id": "aIgpCbPyRHZL",
        "colab_type": "text"
      },
      "source": [
        "## Trabajo Final (Predictiva): Pronostico de la evolución de casos activos de SARS-CoV-2 en Colombia\n",
        "El trabajo que se presenta a continuación tiene como objetivo la predicción de corto y mediano plazo de el total de casos confirmados, los nuevos casos, los casos activos, recuperados y muertes para las 5 principales ciudades de Colombia, utilizando técnicas estadísticas, de inteligencia artificial o modelos híbridos..\n",
        "\n",
        "El dataset que se utilizará es Casos positivos de COVID-19 en Colombia y se encuentra en www.datos.gov.co.."
      ]
    },
    {
      "cell_type": "code",
      "metadata": {
        "id": "Dz2Rf53oxZuF",
        "colab_type": "code",
        "colab": {
          "base_uri": "https://localhost:8080/",
          "height": 107
        },
        "outputId": "a4f55b8a-2fa3-42b7-e156-aa2b1e879450"
      },
      "source": [
        "from google.colab import drive\n",
        "drive.mount('/content/drive')"
      ],
      "execution_count": null,
      "outputs": [
        {
          "output_type": "stream",
          "text": [
            "Go to this URL in a browser: https://accounts.google.com/o/oauth2/auth?client_id=947318989803-6bn6qk8qdgf4n4g3pfee6491hc0brc4i.apps.googleusercontent.com&redirect_uri=urn%3aietf%3awg%3aoauth%3a2.0%3aoob&scope=email%20https%3a%2f%2fwww.googleapis.com%2fauth%2fdocs.test%20https%3a%2f%2fwww.googleapis.com%2fauth%2fdrive%20https%3a%2f%2fwww.googleapis.com%2fauth%2fdrive.photos.readonly%20https%3a%2f%2fwww.googleapis.com%2fauth%2fpeopleapi.readonly&response_type=code\n",
            "\n",
            "Enter your authorization code:\n",
            "··········\n"
          ],
          "name": "stdout"
        }
      ]
    },
    {
      "cell_type": "markdown",
      "metadata": {
        "id": "gR2jciOcUXLt",
        "colab_type": "text"
      },
      "source": [
        "## Descripción de las variables disponibles\n",
        "Antes de realizar cualquier cálculo con un nuevo conjunto de datos, es importante realizar una exploración descriptiva de los mismos. Esto permitirá comprender la información que contiene cada variable y dar indicios sobre qué variables serían adecuadas usar o no en etapas posteriores de análisis.\n",
        "\n",
        "Con base a la información facilitada en www.datos.gov.co., las variables en este conjunto de datos disponibles tenemos:\n",
        "\n",
        "\n",
        "1.  ***id_de_caso:***\n",
        "2.   **fecha_de_notificaci_n**:Fecha de notificación a SIVIGILA\n",
        "3.  **c_digo_divipola:**\n",
        "4.  **ciudad_de_ubicaci_n:**\n",
        "5.  **departamento:**\n",
        "6.  **atenci_n:**\n",
        "7.  **edad:**\n",
        "8.  **sexo:** \n",
        "9.  **tipo:**\n",
        "10.  **estado**: Corresponde a muertes no relacionadas con COVID-19, aún si eran casos activos **Hay pacientes recuperados para COVID-19, que pueden permanecer en hospitalización por otras comorbilidades\n",
        "11.  **pa_s_de_procedencia**:\n",
        "12.  **fis**: Fecha de inicio de síntomas\n",
        "13.  **fecha_de_muerte**:\n",
        "14.  **fecha_diagnostico**: Fecha de confirmación por laboratorio\n",
        "15.  **fecha_recuperado**:\n",
        "16.  **fecha_reporte_web**: Fecha de publicación en sitio web\n",
        "17.  **tipo_recuperaci_n**: \t\n",
        "Se refiere a la variable de tipo de recuperación que tiene dos opciones: PCR y tiempo. PCR indica que la persona se encuentra recuperada por segunda muestra, en donde dio negativo para el virus; mientras que tiempo significa que son personas que cumplieron 30 días posteriores al inicio de síntomas o toma de muestras que no tienen síntomas, que no tengan más de 70 años ni que estén hospitalizados.\n",
        "18.  **codigo_departamento**:\n",
        "19.  **codigo_pais**:\n",
        "20.  **pertenencia_etnica**: Esta variable se actualizará cada semana.\n",
        "21.  **nombre_grupo_etnico**:"
      ]
    },
    {
      "cell_type": "markdown",
      "metadata": {
        "id": "i2_vBqsIYvcT",
        "colab_type": "text"
      },
      "source": [
        "### *Lectura de la base de datos*\n",
        "Procedemos a importar las librerías a utilizar y llamamos la base de datos:"
      ]
    },
    {
      "cell_type": "code",
      "metadata": {
        "id": "rokmBtk-aWAT",
        "colab_type": "code",
        "colab": {}
      },
      "source": [
        "!pip install pandas\n",
        "!pip install sodapy"
      ],
      "execution_count": null,
      "outputs": []
    },
    {
      "cell_type": "code",
      "metadata": {
        "id": "VXfuw8b_Y-Fq",
        "colab_type": "code",
        "colab": {}
      },
      "source": [
        "## librerías\n",
        "import pandas as pd\n",
        "from sodapy import Socrata\n",
        "import numpy as np\n",
        "import seaborn as sns\n",
        "import matplotlib.pyplot as plt"
      ],
      "execution_count": null,
      "outputs": []
    },
    {
      "cell_type": "code",
      "metadata": {
        "id": "Z9JmEoR5HE82",
        "colab_type": "code",
        "colab": {
          "base_uri": "https://localhost:8080/",
          "height": 34
        },
        "outputId": "4aba1f2f-667f-486f-b7ae-6dee075e909e"
      },
      "source": [
        "cliente = Socrata(\"www.datos.gov.co\", None)\n",
        "df = cliente.get(\"gt2j-8ykr\", limit=1000000)\n",
        "\n",
        "# Convertir los datos a un DataFrame\n",
        "df_0 = pd.DataFrame.from_records(df)\n"
      ],
      "execution_count": null,
      "outputs": [
        {
          "output_type": "stream",
          "text": [
            "WARNING:root:Requests made without an app_token will be subject to strict throttling limits.\n"
          ],
          "name": "stderr"
        }
      ]
    },
    {
      "cell_type": "code",
      "metadata": {
        "id": "qbzoOmDOfZ3b",
        "colab_type": "code",
        "colab": {
          "base_uri": "https://localhost:8080/",
          "height": 72
        },
        "outputId": "79dc35d8-8a23-4545-9fd8-88979918b83f"
      },
      "source": [
        "df_1= df_0.copy()\n",
        "#df1 = pd.read_csv(\"https://www.datos.gov.co/api/views/gt2j-8ykr/rows.csv?accessType=DOWNLOAD\")"
      ],
      "execution_count": null,
      "outputs": [
        {
          "output_type": "stream",
          "text": [
            "/usr/local/lib/python3.6/dist-packages/IPython/core/interactiveshell.py:2718: DtypeWarning: Columns (10,14,16,19,20) have mixed types.Specify dtype option on import or set low_memory=False.\n",
            "  interactivity=interactivity, compiler=compiler, result=result)\n"
          ],
          "name": "stderr"
        }
      ]
    },
    {
      "cell_type": "markdown",
      "metadata": {
        "id": "INdonqJ5avl0",
        "colab_type": "text"
      },
      "source": [
        "## *Exploración de la base de datos*\n",
        "\n",
        "A continuación analizamos las características de la base de datos buscando describir cómo se relaciona cada atributo con la variable objetivo"
      ]
    },
    {
      "cell_type": "code",
      "metadata": {
        "id": "FAHACdUYa7qR",
        "colab_type": "code",
        "colab": {
          "base_uri": "https://localhost:8080/",
          "height": 318
        },
        "outputId": "4e7532c9-392b-4d59-b1e4-f2ae0761b2e8"
      },
      "source": [
        "## Tamaño de la base de datos\n",
        "print(\"La base de datos contiene {} registros  y {} columnas o atributos.\".format(df_0.shape[0], df_0.shape[1]))\n",
        "## Primeros 5 registros\n",
        "df_1.head()"
      ],
      "execution_count": null,
      "outputs": [
        {
          "output_type": "stream",
          "text": [
            "La base de datos contiene 572270 registros  y 21 columnas o atributos.\n"
          ],
          "name": "stdout"
        },
        {
          "output_type": "execute_result",
          "data": {
            "text/html": [
              "<div>\n",
              "<style scoped>\n",
              "    .dataframe tbody tr th:only-of-type {\n",
              "        vertical-align: middle;\n",
              "    }\n",
              "\n",
              "    .dataframe tbody tr th {\n",
              "        vertical-align: top;\n",
              "    }\n",
              "\n",
              "    .dataframe thead th {\n",
              "        text-align: right;\n",
              "    }\n",
              "</style>\n",
              "<table border=\"1\" class=\"dataframe\">\n",
              "  <thead>\n",
              "    <tr style=\"text-align: right;\">\n",
              "      <th></th>\n",
              "      <th>id_de_caso</th>\n",
              "      <th>fecha_de_notificaci_n</th>\n",
              "      <th>c_digo_divipola</th>\n",
              "      <th>ciudad_de_ubicaci_n</th>\n",
              "      <th>departamento</th>\n",
              "      <th>atenci_n</th>\n",
              "      <th>edad</th>\n",
              "      <th>sexo</th>\n",
              "      <th>tipo</th>\n",
              "      <th>estado</th>\n",
              "      <th>pa_s_de_procedencia</th>\n",
              "      <th>fis</th>\n",
              "      <th>fecha_diagnostico</th>\n",
              "      <th>fecha_recuperado</th>\n",
              "      <th>fecha_reporte_web</th>\n",
              "      <th>tipo_recuperaci_n</th>\n",
              "      <th>codigo_departamento</th>\n",
              "      <th>codigo_pais</th>\n",
              "      <th>pertenencia_etnica</th>\n",
              "      <th>nombre_grupo_etnico</th>\n",
              "      <th>fecha_de_muerte</th>\n",
              "    </tr>\n",
              "  </thead>\n",
              "  <tbody>\n",
              "    <tr>\n",
              "      <th>0</th>\n",
              "      <td>1</td>\n",
              "      <td>2020-03-02T00:00:00.000</td>\n",
              "      <td>11001</td>\n",
              "      <td>Bogotá D.C.</td>\n",
              "      <td>Bogotá D.C.</td>\n",
              "      <td>Recuperado</td>\n",
              "      <td>19</td>\n",
              "      <td>F</td>\n",
              "      <td>Importado</td>\n",
              "      <td>Leve</td>\n",
              "      <td>ITALIA</td>\n",
              "      <td>2020-02-27T00:00:00.000</td>\n",
              "      <td>2020-03-06T00:00:00.000</td>\n",
              "      <td>2020-03-13T00:00:00.000</td>\n",
              "      <td>2020-03-06T00:00:00.000</td>\n",
              "      <td>PCR</td>\n",
              "      <td>11</td>\n",
              "      <td>380</td>\n",
              "      <td>Otro</td>\n",
              "      <td>NaN</td>\n",
              "      <td>NaN</td>\n",
              "    </tr>\n",
              "    <tr>\n",
              "      <th>1</th>\n",
              "      <td>2</td>\n",
              "      <td>2020-03-06T00:00:00.000</td>\n",
              "      <td>76111</td>\n",
              "      <td>Guadalajara de Buga</td>\n",
              "      <td>Valle del Cauca</td>\n",
              "      <td>Recuperado</td>\n",
              "      <td>34</td>\n",
              "      <td>M</td>\n",
              "      <td>Importado</td>\n",
              "      <td>Leve</td>\n",
              "      <td>ESPAÑA</td>\n",
              "      <td>2020-03-04T00:00:00.000</td>\n",
              "      <td>2020-03-09T00:00:00.000</td>\n",
              "      <td>2020-03-19T00:00:00.000</td>\n",
              "      <td>2020-03-09T00:00:00.000</td>\n",
              "      <td>PCR</td>\n",
              "      <td>76</td>\n",
              "      <td>724</td>\n",
              "      <td>Otro</td>\n",
              "      <td>NaN</td>\n",
              "      <td>NaN</td>\n",
              "    </tr>\n",
              "    <tr>\n",
              "      <th>2</th>\n",
              "      <td>3</td>\n",
              "      <td>2020-03-07T00:00:00.000</td>\n",
              "      <td>05001</td>\n",
              "      <td>Medellín</td>\n",
              "      <td>Antioquia</td>\n",
              "      <td>Recuperado</td>\n",
              "      <td>50</td>\n",
              "      <td>F</td>\n",
              "      <td>Importado</td>\n",
              "      <td>Leve</td>\n",
              "      <td>ESPAÑA</td>\n",
              "      <td>2020-02-29T00:00:00.000</td>\n",
              "      <td>2020-03-09T00:00:00.000</td>\n",
              "      <td>2020-03-15T00:00:00.000</td>\n",
              "      <td>2020-03-09T00:00:00.000</td>\n",
              "      <td>PCR</td>\n",
              "      <td>5</td>\n",
              "      <td>724</td>\n",
              "      <td>Otro</td>\n",
              "      <td>NaN</td>\n",
              "      <td>NaN</td>\n",
              "    </tr>\n",
              "    <tr>\n",
              "      <th>3</th>\n",
              "      <td>4</td>\n",
              "      <td>2020-03-09T00:00:00.000</td>\n",
              "      <td>05001</td>\n",
              "      <td>Medellín</td>\n",
              "      <td>Antioquia</td>\n",
              "      <td>Recuperado</td>\n",
              "      <td>55</td>\n",
              "      <td>M</td>\n",
              "      <td>Relacionado</td>\n",
              "      <td>Leve</td>\n",
              "      <td>NaN</td>\n",
              "      <td>2020-03-06T00:00:00.000</td>\n",
              "      <td>2020-03-11T00:00:00.000</td>\n",
              "      <td>2020-03-26T00:00:00.000</td>\n",
              "      <td>2020-03-11T00:00:00.000</td>\n",
              "      <td>PCR</td>\n",
              "      <td>5</td>\n",
              "      <td>NaN</td>\n",
              "      <td>Otro</td>\n",
              "      <td>NaN</td>\n",
              "      <td>NaN</td>\n",
              "    </tr>\n",
              "    <tr>\n",
              "      <th>4</th>\n",
              "      <td>5</td>\n",
              "      <td>2020-03-09T00:00:00.000</td>\n",
              "      <td>05001</td>\n",
              "      <td>Medellín</td>\n",
              "      <td>Antioquia</td>\n",
              "      <td>Recuperado</td>\n",
              "      <td>25</td>\n",
              "      <td>M</td>\n",
              "      <td>Relacionado</td>\n",
              "      <td>Leve</td>\n",
              "      <td>NaN</td>\n",
              "      <td>2020-03-08T00:00:00.000</td>\n",
              "      <td>2020-03-11T00:00:00.000</td>\n",
              "      <td>2020-03-23T00:00:00.000</td>\n",
              "      <td>2020-03-11T00:00:00.000</td>\n",
              "      <td>PCR</td>\n",
              "      <td>5</td>\n",
              "      <td>NaN</td>\n",
              "      <td>Otro</td>\n",
              "      <td>NaN</td>\n",
              "      <td>NaN</td>\n",
              "    </tr>\n",
              "  </tbody>\n",
              "</table>\n",
              "</div>"
            ],
            "text/plain": [
              "  id_de_caso    fecha_de_notificaci_n  ... nombre_grupo_etnico fecha_de_muerte\n",
              "0          1  2020-03-02T00:00:00.000  ...                 NaN             NaN\n",
              "1          2  2020-03-06T00:00:00.000  ...                 NaN             NaN\n",
              "2          3  2020-03-07T00:00:00.000  ...                 NaN             NaN\n",
              "3          4  2020-03-09T00:00:00.000  ...                 NaN             NaN\n",
              "4          5  2020-03-09T00:00:00.000  ...                 NaN             NaN\n",
              "\n",
              "[5 rows x 21 columns]"
            ]
          },
          "metadata": {
            "tags": []
          },
          "execution_count": 74
        }
      ]
    },
    {
      "cell_type": "code",
      "metadata": {
        "id": "6aUw5JHSIhFN",
        "colab_type": "code",
        "colab": {
          "base_uri": "https://localhost:8080/",
          "height": 141
        },
        "outputId": "2cdeb2cd-eca9-49a1-a071-d214466332f8"
      },
      "source": [
        "#Columnas de la base de datos\n",
        "print('Nombre columnas:',df_1.columns)"
      ],
      "execution_count": null,
      "outputs": [
        {
          "output_type": "stream",
          "text": [
            "Nombre columnas: Index(['id_de_caso', 'fecha_de_notificaci_n', 'c_digo_divipola',\n",
            "       'ciudad_de_ubicaci_n', 'departamento', 'atenci_n', 'edad', 'sexo',\n",
            "       'tipo', 'estado', 'pa_s_de_procedencia', 'fis', 'fecha_diagnostico',\n",
            "       'fecha_recuperado', 'fecha_reporte_web', 'tipo_recuperaci_n',\n",
            "       'codigo_departamento', 'codigo_pais', 'pertenencia_etnica',\n",
            "       'nombre_grupo_etnico', 'fecha_de_muerte'],\n",
            "      dtype='object')\n"
          ],
          "name": "stdout"
        }
      ]
    },
    {
      "cell_type": "markdown",
      "metadata": {
        "id": "m271ds7bKqO9",
        "colab_type": "text"
      },
      "source": [
        "Revisando la base de datos y debido al gran numero de valores nulos que tienen la variables (codigo_pais) y a la poca importancia que genera en la base de datos se toma la decisión de dejarla por fuera del analisis"
      ]
    },
    {
      "cell_type": "code",
      "metadata": {
        "id": "QX4UUQMTgE7i",
        "colab_type": "code",
        "colab": {}
      },
      "source": [
        " df0=df_1[['id_de_caso', 'fecha_de_notificaci_n', 'c_digo_divipola',\n",
        "       'ciudad_de_ubicaci_n', 'departamento', 'atenci_n', 'edad', 'sexo',\n",
        "       'tipo', 'estado', 'pa_s_de_procedencia', 'fis', 'fecha_diagnostico', 'fecha_reporte_web', 'tipo_recuperaci_n',\n",
        "       'codigo_departamento', 'pertenencia_etnica',\n",
        "       'nombre_grupo_etnico',]]\n",
        "\n",
        "#, 'fecha_de_muerte' , 'fecha_recuperado'   "
      ],
      "execution_count": null,
      "outputs": []
    },
    {
      "cell_type": "markdown",
      "metadata": {
        "id": "OFK4E5se2FT_",
        "colab_type": "text"
      },
      "source": [
        "Verificamos si todas las columnas tienen igual registros y tambien se puede ver que las columnas de la base de datos seleccionada contiene atributos del siguiente tipo objects:"
      ]
    },
    {
      "cell_type": "code",
      "metadata": {
        "id": "dES6W6zEd4-G",
        "colab_type": "code",
        "colab": {
          "base_uri": "https://localhost:8080/",
          "height": 461
        },
        "outputId": "1ef9099a-fa96-4692-a5e9-cd5e230dfbff"
      },
      "source": [
        "# tipo de datos\n",
        "df0.info()"
      ],
      "execution_count": null,
      "outputs": [
        {
          "output_type": "stream",
          "text": [
            "<class 'pandas.core.frame.DataFrame'>\n",
            "RangeIndex: 572270 entries, 0 to 572269\n",
            "Data columns (total 18 columns):\n",
            " #   Column                 Non-Null Count   Dtype         \n",
            "---  ------                 --------------   -----         \n",
            " 0   id_de_caso             572270 non-null  object        \n",
            " 1   fecha_de_notificaci_n  572270 non-null  datetime64[ns]\n",
            " 2   c_digo_divipola        572270 non-null  object        \n",
            " 3   ciudad_de_ubicaci_n    572270 non-null  object        \n",
            " 4   departamento           572270 non-null  object        \n",
            " 5   atenci_n               572270 non-null  object        \n",
            " 6   edad                   572270 non-null  object        \n",
            " 7   sexo                   572270 non-null  object        \n",
            " 8   tipo                   572270 non-null  object        \n",
            " 9   estado                 572270 non-null  object        \n",
            " 10  pa_s_de_procedencia    965 non-null     object        \n",
            " 11  fis                    572270 non-null  object        \n",
            " 12  fecha_diagnostico      568427 non-null  datetime64[ns]\n",
            " 13  fecha_reporte_web      572270 non-null  object        \n",
            " 14  tipo_recuperaci_n      407121 non-null  object        \n",
            " 15  codigo_departamento    572270 non-null  object        \n",
            " 16  pertenencia_etnica     280281 non-null  object        \n",
            " 17  nombre_grupo_etnico    8139 non-null    object        \n",
            "dtypes: datetime64[ns](2), object(16)\n",
            "memory usage: 78.6+ MB\n"
          ],
          "name": "stdout"
        }
      ]
    },
    {
      "cell_type": "markdown",
      "metadata": {
        "id": "9ZtT7G8T2IbC",
        "colab_type": "text"
      },
      "source": [
        "Podemos observar que todas las columnas son de tipo object por lo tanto se deben de modificar las columnas  *fecha_de_notificaci_n, fecha_diagnostico, fecha_recuperado, fecha_reporte_web y fecha_de_muerte* a un tipo de datos ***datetime***, las columnas *id_de_caso y  edad* se deben de modificar a tipo de datos ***int64*** y el resto de columnas se modifican al tipo de datos ***category***\n"
      ]
    },
    {
      "cell_type": "code",
      "metadata": {
        "id": "rVbobdhP1AK2",
        "colab_type": "code",
        "colab": {}
      },
      "source": [
        "df0['fecha_de_notificaci_n']= pd.to_datetime(df0['fecha_de_notificaci_n'])\n",
        "df0['fecha_diagnostico']= pd.to_datetime(df0['fecha_diagnostico'])\n",
        "#df0['fecha_recuperado']= pd.to_datetime(df0['fecha_recuperado'])\n",
        "df0['fecha_reporte_web']= pd.to_datetime(df0['fecha_reporte_web'])\n",
        "#df0['fecha_de_muerte']= pd.to_datetime(df0['fecha_de_muerte'])\n",
        "df0['id_de_caso']= df0['id_de_caso'].values.astype(float)\n",
        "df0['edad']= df0['edad'].values.astype(float)\n",
        "\n",
        "df0 = df0.astype({'c_digo_divipola':'category', 'ciudad_de_ubicaci_n':'category',\n",
        "       'departamento':'category', 'atenci_n':'category', 'edad':'int64',  'id_de_caso':'int64','sexo':'category',\n",
        "       'tipo':'category', 'estado':'category', 'pa_s_de_procedencia':'category', 'fis':'category',\n",
        "       'codigo_departamento':'category', 'tipo_recuperaci_n':'category'})"
      ],
      "execution_count": null,
      "outputs": []
    },
    {
      "cell_type": "code",
      "metadata": {
        "id": "rilSgRVy8xsn",
        "colab_type": "code",
        "colab": {
          "base_uri": "https://localhost:8080/",
          "height": 354
        },
        "outputId": "6ff16f22-fa0f-4ead-b0de-21f9131952b4"
      },
      "source": [
        "#Validamos el cambio de tipo de datos\n",
        "df0.dtypes"
      ],
      "execution_count": null,
      "outputs": [
        {
          "output_type": "execute_result",
          "data": {
            "text/plain": [
              "id_de_caso                        int64\n",
              "fecha_de_notificaci_n    datetime64[ns]\n",
              "c_digo_divipola                category\n",
              "ciudad_de_ubicaci_n            category\n",
              "departamento                   category\n",
              "atenci_n                       category\n",
              "edad                              int64\n",
              "sexo                           category\n",
              "tipo                           category\n",
              "estado                         category\n",
              "pa_s_de_procedencia            category\n",
              "fis                            category\n",
              "fecha_diagnostico        datetime64[ns]\n",
              "fecha_reporte_web        datetime64[ns]\n",
              "tipo_recuperaci_n              category\n",
              "codigo_departamento            category\n",
              "pertenencia_etnica               object\n",
              "nombre_grupo_etnico              object\n",
              "dtype: object"
            ]
          },
          "metadata": {
            "tags": []
          },
          "execution_count": 82
        }
      ]
    },
    {
      "cell_type": "markdown",
      "metadata": {
        "id": "LnDWv7ilcldz",
        "colab_type": "text"
      },
      "source": [
        "Identificamos el % de valores perdidos"
      ]
    },
    {
      "cell_type": "code",
      "metadata": {
        "id": "bhLpA7Ofcolg",
        "colab_type": "code",
        "colab": {}
      },
      "source": [
        "# Funcion para calcular los valores perdidos por columna\n",
        "def Valores_perdidos(df):\n",
        "          \n",
        "        # Total valores perdidos \n",
        "        mis_val = df.isnull().sum()\n",
        "        \n",
        "        # % de valores perdidos \n",
        "        mis_val_percent = 100 * df.isnull().sum() / len(df)\n",
        "        \n",
        "        # Crear una tabla con los resultados\n",
        "        mis_val_table = pd.concat([mis_val, mis_val_percent], axis=1)\n",
        "        \n",
        "        # Renombrar las columnas\n",
        "        mis_val_table_ren_columns = mis_val_table.rename(\n",
        "        columns = {0 : 'Missing Values', 1 : '% of Total Values'})\n",
        "        \n",
        "        # Ordenar la tabla con los valores más altos de forma ascendente\n",
        "        mis_val_table_ren_columns = mis_val_table_ren_columns[\n",
        "            mis_val_table_ren_columns.iloc[:,1] != 0].sort_values(\n",
        "        '% of Total Values', ascending=False).round(1)\n",
        "        \n",
        "        # Imprimir la informacion\n",
        "        print (\"El Dataframe tiene \" + str(df.shape[1]) + \" columnas.\\n\"      \n",
        "            \"hay \" + str(mis_val_table_ren_columns.shape[0]) +\n",
        "              \" a las que le faltan valores.\")\n",
        "        \n",
        "        # Retornar el dataframe\n",
        "        return mis_val_table_ren_columns"
      ],
      "execution_count": null,
      "outputs": []
    },
    {
      "cell_type": "code",
      "metadata": {
        "id": "ihFkSTq-dbgz",
        "colab_type": "code",
        "colab": {
          "base_uri": "https://localhost:8080/",
          "height": 233
        },
        "outputId": "98344148-b62a-46fa-e23c-80cad0330afc"
      },
      "source": [
        "Valores_perdidos(df0)"
      ],
      "execution_count": null,
      "outputs": [
        {
          "output_type": "stream",
          "text": [
            "El Dataframe tiene 18 columnas.\n",
            "hay 5 a las que le faltan valores.\n"
          ],
          "name": "stdout"
        },
        {
          "output_type": "execute_result",
          "data": {
            "text/html": [
              "<div>\n",
              "<style scoped>\n",
              "    .dataframe tbody tr th:only-of-type {\n",
              "        vertical-align: middle;\n",
              "    }\n",
              "\n",
              "    .dataframe tbody tr th {\n",
              "        vertical-align: top;\n",
              "    }\n",
              "\n",
              "    .dataframe thead th {\n",
              "        text-align: right;\n",
              "    }\n",
              "</style>\n",
              "<table border=\"1\" class=\"dataframe\">\n",
              "  <thead>\n",
              "    <tr style=\"text-align: right;\">\n",
              "      <th></th>\n",
              "      <th>Missing Values</th>\n",
              "      <th>% of Total Values</th>\n",
              "    </tr>\n",
              "  </thead>\n",
              "  <tbody>\n",
              "    <tr>\n",
              "      <th>pa_s_de_procedencia</th>\n",
              "      <td>571305</td>\n",
              "      <td>99.8</td>\n",
              "    </tr>\n",
              "    <tr>\n",
              "      <th>nombre_grupo_etnico</th>\n",
              "      <td>564131</td>\n",
              "      <td>98.6</td>\n",
              "    </tr>\n",
              "    <tr>\n",
              "      <th>pertenencia_etnica</th>\n",
              "      <td>291989</td>\n",
              "      <td>51.0</td>\n",
              "    </tr>\n",
              "    <tr>\n",
              "      <th>tipo_recuperaci_n</th>\n",
              "      <td>165149</td>\n",
              "      <td>28.9</td>\n",
              "    </tr>\n",
              "    <tr>\n",
              "      <th>fecha_diagnostico</th>\n",
              "      <td>3843</td>\n",
              "      <td>0.7</td>\n",
              "    </tr>\n",
              "  </tbody>\n",
              "</table>\n",
              "</div>"
            ],
            "text/plain": [
              "                     Missing Values  % of Total Values\n",
              "pa_s_de_procedencia          571305               99.8\n",
              "nombre_grupo_etnico          564131               98.6\n",
              "pertenencia_etnica           291989               51.0\n",
              "tipo_recuperaci_n            165149               28.9\n",
              "fecha_diagnostico              3843                0.7"
            ]
          },
          "metadata": {
            "tags": []
          },
          "execution_count": 84
        }
      ]
    },
    {
      "cell_type": "markdown",
      "metadata": {
        "id": "JQZBLk9Oa2Gf",
        "colab_type": "text"
      },
      "source": [
        "Encontramos 5 variables con valores nulos por lo tanto analizaremos una a una para ver como podemos imputar los valores nulos\n"
      ]
    },
    {
      "cell_type": "markdown",
      "metadata": {
        "id": "J0SzJviqnXma",
        "colab_type": "text"
      },
      "source": [
        "***pais de procedencia*** los valores nulos corresponden a los Nacionales reemplazaremos por Colombia.\n",
        "Se observa que el pais de ARABIA, ESTADOS UNIDOS, MEXICO,, PANAMÁ Y PERU  esta escrita de formas diferentes esto podria afectar el analisis, por este motivo se deben de igualar"
      ]
    },
    {
      "cell_type": "code",
      "metadata": {
        "id": "mwpftOll6KnT",
        "colab_type": "code",
        "colab": {
          "base_uri": "https://localhost:8080/",
          "height": 905
        },
        "outputId": "d544ce9b-4022-44f4-d5d0-9dfab08df531"
      },
      "source": [
        "df0.groupby(('pa_s_de_procedencia')).id_de_caso.count()"
      ],
      "execution_count": null,
      "outputs": [
        {
          "output_type": "execute_result",
          "data": {
            "text/plain": [
              "pa_s_de_procedencia\n",
              "ALEMANIA                                            12\n",
              "ANTILLAS NEERLANDESAS                                8\n",
              "ARABIA SAUDITA                                       1\n",
              "ARABIA SAUDÍ                                         1\n",
              "ARGENTINA                                            5\n",
              "ARUBA                                                3\n",
              "AUSTRALIA                                            1\n",
              "BRASIL                                              64\n",
              "BÉLGICA                                              1\n",
              "CANADÁ                                               3\n",
              "CHILE                                               20\n",
              "COSTA RICA                                           2\n",
              "CROACIA                                              1\n",
              "CUBA                                                 4\n",
              "CURAZAO                                              2\n",
              "ECUADOR                                             68\n",
              "EGIPTO                                              12\n",
              "EMIRATOS ARABES UNIDOS                               2\n",
              "ESPAÑA                                             265\n",
              "ESTADOS UNIDOS                                     217\n",
              "ESTADOS UNIDOS DE AMÉRICA                            7\n",
              "FRANCIA                                             20\n",
              "GRECIA                                               4\n",
              "GUATEMALA                                            1\n",
              "HONDURAS                                             1\n",
              "IRLANDA                                              1\n",
              "ISRAEL                                               6\n",
              "ITALIA                                              10\n",
              "JAMAICA                                             16\n",
              "KENYA                                                1\n",
              "MARRUECOS                                            2\n",
              "MEXICO                                               1\n",
              "MÉXICO                                              53\n",
              "NICARAGUA                                            2\n",
              "PANAMA                                              34\n",
              "PANAMÁ                                               4\n",
              "PERU                                                18\n",
              "PERÚ                                                 7\n",
              "PORTUGAL                                             1\n",
              "PUERTO RICO                                         13\n",
              "REINO UNIDO DE GRAN BRETAÑA E IRLANDA DEL NORTE     14\n",
              "REPÚBLICA DOMINICANA                                13\n",
              "REPÚBLICA ÁRABE SIRIA                                1\n",
              "SUECIA                                               2\n",
              "SUIZA                                                1\n",
              "TURQUÍA                                             28\n",
              "URUGUAY                                              1\n",
              "VENEZUELA                                           11\n",
              "Name: id_de_caso, dtype: int64"
            ]
          },
          "metadata": {
            "tags": []
          },
          "execution_count": 86
        }
      ]
    },
    {
      "cell_type": "code",
      "metadata": {
        "id": "xF8JdEBItKQJ",
        "colab_type": "code",
        "colab": {}
      },
      "source": [
        "df0['pa_s_de_procedencia'] = df0.pa_s_de_procedencia.replace(\"ARABIA SAUD\", \"ARABIA SAUDITA\")\n",
        "df0['pa_s_de_procedencia'] = df0.pa_s_de_procedencia.replace(\"ESTADOS UNIDOS\", \"ESTADOS UNIDOS DE AMÉRICA\")\n",
        "df0['pa_s_de_procedencia'] = df0.pa_s_de_procedencia.replace(\"MEXICO \", \"MÉXICO\")\n",
        "df0['pa_s_de_procedencia'] = df0.pa_s_de_procedencia.replace(\"PANAMA\", \"PANAMÁ\")\n",
        "df0['pa_s_de_procedencia'] = df0.pa_s_de_procedencia.replace(\"PERU\", \"PERÚ\")\n",
        "df0['pa_s_de_procedencia'] = df0['pa_s_de_procedencia'].cat.add_categories('COLOMBIA')\n",
        "df0['pa_s_de_procedencia'].fillna('COLOMBIA', inplace =True) "
      ],
      "execution_count": null,
      "outputs": []
    },
    {
      "cell_type": "markdown",
      "metadata": {
        "id": "vEsuF_Ko8A0y",
        "colab_type": "text"
      },
      "source": [
        "Para la variable **fecha_diagnostico** los valores nulos suman 3844, analizando esta fecha con la fecha de registro es diferente solo en 127 registros por lo reemplazaremos la fecha de gestión con la fehca de reporte web ya que esta ultima no tiene valores nulos"
      ]
    },
    {
      "cell_type": "code",
      "metadata": {
        "id": "3PBzAn1HvrFl",
        "colab_type": "code",
        "colab": {}
      },
      "source": [
        "# restamos las 2 fechas con el fin de validar cuantos valores superan el 0\n",
        "dfcolum=df0[['fecha_diagnostico','fecha_reporte_web','fecha_de_notificaci_n']]\n",
        "dfcolum['dfcolumvalor']=df0['fecha_diagnostico']-df0['fecha_reporte_web']"
      ],
      "execution_count": null,
      "outputs": []
    },
    {
      "cell_type": "code",
      "metadata": {
        "id": "j3QtNkSYrkMA",
        "colab_type": "code",
        "colab": {
          "base_uri": "https://localhost:8080/",
          "height": 347
        },
        "outputId": "b318dd2e-0cf0-48bf-9360-b94e3fe4bb1a"
      },
      "source": [
        "dfcolum.head(10)"
      ],
      "execution_count": null,
      "outputs": [
        {
          "output_type": "execute_result",
          "data": {
            "text/html": [
              "<div>\n",
              "<style scoped>\n",
              "    .dataframe tbody tr th:only-of-type {\n",
              "        vertical-align: middle;\n",
              "    }\n",
              "\n",
              "    .dataframe tbody tr th {\n",
              "        vertical-align: top;\n",
              "    }\n",
              "\n",
              "    .dataframe thead th {\n",
              "        text-align: right;\n",
              "    }\n",
              "</style>\n",
              "<table border=\"1\" class=\"dataframe\">\n",
              "  <thead>\n",
              "    <tr style=\"text-align: right;\">\n",
              "      <th></th>\n",
              "      <th>fecha_diagnostico</th>\n",
              "      <th>fecha_reporte_web</th>\n",
              "      <th>fecha_de_notificaci_n</th>\n",
              "      <th>dfcolumvalor</th>\n",
              "    </tr>\n",
              "  </thead>\n",
              "  <tbody>\n",
              "    <tr>\n",
              "      <th>0</th>\n",
              "      <td>2020-03-06</td>\n",
              "      <td>2020-03-06</td>\n",
              "      <td>2020-03-02</td>\n",
              "      <td>0 days</td>\n",
              "    </tr>\n",
              "    <tr>\n",
              "      <th>1</th>\n",
              "      <td>2020-03-09</td>\n",
              "      <td>2020-03-09</td>\n",
              "      <td>2020-03-06</td>\n",
              "      <td>0 days</td>\n",
              "    </tr>\n",
              "    <tr>\n",
              "      <th>2</th>\n",
              "      <td>2020-03-09</td>\n",
              "      <td>2020-03-09</td>\n",
              "      <td>2020-03-07</td>\n",
              "      <td>0 days</td>\n",
              "    </tr>\n",
              "    <tr>\n",
              "      <th>3</th>\n",
              "      <td>2020-03-11</td>\n",
              "      <td>2020-03-11</td>\n",
              "      <td>2020-03-09</td>\n",
              "      <td>0 days</td>\n",
              "    </tr>\n",
              "    <tr>\n",
              "      <th>4</th>\n",
              "      <td>2020-03-11</td>\n",
              "      <td>2020-03-11</td>\n",
              "      <td>2020-03-09</td>\n",
              "      <td>0 days</td>\n",
              "    </tr>\n",
              "    <tr>\n",
              "      <th>5</th>\n",
              "      <td>2020-03-11</td>\n",
              "      <td>2020-03-11</td>\n",
              "      <td>2020-03-10</td>\n",
              "      <td>0 days</td>\n",
              "    </tr>\n",
              "    <tr>\n",
              "      <th>6</th>\n",
              "      <td>2020-03-11</td>\n",
              "      <td>2020-03-11</td>\n",
              "      <td>2020-03-08</td>\n",
              "      <td>0 days</td>\n",
              "    </tr>\n",
              "    <tr>\n",
              "      <th>7</th>\n",
              "      <td>2020-03-11</td>\n",
              "      <td>2020-03-11</td>\n",
              "      <td>2020-03-09</td>\n",
              "      <td>0 days</td>\n",
              "    </tr>\n",
              "    <tr>\n",
              "      <th>8</th>\n",
              "      <td>2020-03-11</td>\n",
              "      <td>2020-03-11</td>\n",
              "      <td>2020-03-08</td>\n",
              "      <td>0 days</td>\n",
              "    </tr>\n",
              "    <tr>\n",
              "      <th>9</th>\n",
              "      <td>2020-03-12</td>\n",
              "      <td>2020-03-12</td>\n",
              "      <td>2020-03-12</td>\n",
              "      <td>0 days</td>\n",
              "    </tr>\n",
              "  </tbody>\n",
              "</table>\n",
              "</div>"
            ],
            "text/plain": [
              "  fecha_diagnostico fecha_reporte_web fecha_de_notificaci_n dfcolumvalor\n",
              "0        2020-03-06        2020-03-06            2020-03-02       0 days\n",
              "1        2020-03-09        2020-03-09            2020-03-06       0 days\n",
              "2        2020-03-09        2020-03-09            2020-03-07       0 days\n",
              "3        2020-03-11        2020-03-11            2020-03-09       0 days\n",
              "4        2020-03-11        2020-03-11            2020-03-09       0 days\n",
              "5        2020-03-11        2020-03-11            2020-03-10       0 days\n",
              "6        2020-03-11        2020-03-11            2020-03-08       0 days\n",
              "7        2020-03-11        2020-03-11            2020-03-09       0 days\n",
              "8        2020-03-11        2020-03-11            2020-03-08       0 days\n",
              "9        2020-03-12        2020-03-12            2020-03-12       0 days"
            ]
          },
          "metadata": {
            "tags": []
          },
          "execution_count": 89
        }
      ]
    },
    {
      "cell_type": "code",
      "metadata": {
        "id": "g4zDlR5o7C23",
        "colab_type": "code",
        "colab": {
          "base_uri": "https://localhost:8080/",
          "height": 247
        },
        "outputId": "cc26dad8-89ad-4fad-daf6-6621de90408c"
      },
      "source": [
        "# solo 127 registros tienen fecha diferente \n",
        "dfcolum.groupby(('dfcolumvalor')).dfcolumvalor.max()"
      ],
      "execution_count": null,
      "outputs": [
        {
          "output_type": "execute_result",
          "data": {
            "text/plain": [
              "dfcolumvalor\n",
              "-122 days   -122 days\n",
              "-108 days   -108 days\n",
              "-101 days   -101 days\n",
              "-100 days   -100 days\n",
              "-97 days     -97 days\n",
              "               ...   \n",
              "35 days       35 days\n",
              "46 days       46 days\n",
              "50 days       50 days\n",
              "53 days       53 days\n",
              "66 days       66 days\n",
              "Name: dfcolumvalor, Length: 127, dtype: timedelta64[ns]"
            ]
          },
          "metadata": {
            "tags": []
          },
          "execution_count": 90
        }
      ]
    },
    {
      "cell_type": "code",
      "metadata": {
        "id": "fMCSMHVpL-PY",
        "colab_type": "code",
        "colab": {}
      },
      "source": [
        "df0[\"fecha_diagnostico\"] = df0[\"fecha_reporte_web\"]"
      ],
      "execution_count": null,
      "outputs": []
    },
    {
      "cell_type": "markdown",
      "metadata": {
        "id": "ZfXCK5LaN-Zd",
        "colab_type": "text"
      },
      "source": [
        "Para la variable **tipo_recuperaci_n**  los valores nulos suman 166.658, los nulos los reemplazaremos por No identificado"
      ]
    },
    {
      "cell_type": "code",
      "metadata": {
        "id": "lkznAOwY2FFf",
        "colab_type": "code",
        "colab": {}
      },
      "source": [
        "df0['tipo_recuperaci_n'] = df0['tipo_recuperaci_n'] .cat.add_categories('No identificado')\n",
        "df0['tipo_recuperaci_n'].fillna('No identificado', inplace =True) "
      ],
      "execution_count": null,
      "outputs": []
    },
    {
      "cell_type": "markdown",
      "metadata": {
        "id": "VgUauuDs9gG2",
        "colab_type": "text"
      },
      "source": [
        "Para la variable **pertenencia_etnica** los valores nulos suman 281.847, los nulos los reemplazaremos por Otro"
      ]
    },
    {
      "cell_type": "code",
      "metadata": {
        "id": "5aRuNzWuvtXG",
        "colab_type": "code",
        "colab": {}
      },
      "source": [
        "#df0['pertenencia_etnica'] = df0['pertenencia_etnica'].cat.add_categories('Otro')\n",
        "df0['pertenencia_etnica'].fillna('Otro', inplace =True) "
      ],
      "execution_count": null,
      "outputs": []
    },
    {
      "cell_type": "markdown",
      "metadata": {
        "id": "XYrg2dMx94eF",
        "colab_type": "text"
      },
      "source": [
        "Para la variable **nombre_grupo_etnico** los valores nulos suman 553989, los nulos los reemplazaremos por No identificado"
      ]
    },
    {
      "cell_type": "code",
      "metadata": {
        "id": "9mihLiAkvuKO",
        "colab_type": "code",
        "colab": {}
      },
      "source": [
        "#df0['nombre_grupo_etnico'] = df0['nombre_grupo_etnico'] .cat.add_categories('No identificado')\n",
        "df0['nombre_grupo_etnico'].fillna('No identificado', inplace =True) \n"
      ],
      "execution_count": null,
      "outputs": []
    },
    {
      "cell_type": "markdown",
      "metadata": {
        "id": "1Crwbw7D15T6",
        "colab_type": "text"
      },
      "source": [
        "Verificamos columna a columna que los datos esten correctos"
      ]
    },
    {
      "cell_type": "code",
      "metadata": {
        "id": "d8SyvNuQ2Cp_",
        "colab_type": "code",
        "colab": {
          "base_uri": "https://localhost:8080/",
          "height": 105
        },
        "outputId": "29fc5755-6b05-4f88-ecde-f61a2bce369f"
      },
      "source": [
        "#df1 = df0.groupby(('tipo', 'atenci_n')).id_de_caso.count()\n",
        "df0.groupby(('tipo_recuperaci_n')).id_de_caso.count()"
      ],
      "execution_count": null,
      "outputs": [
        {
          "output_type": "execute_result",
          "data": {
            "text/plain": [
              "tipo_recuperaci_n\n",
              "PCR                 87655\n",
              "Tiempo             319466\n",
              "No identificado    165149\n",
              "Name: id_de_caso, dtype: int64"
            ]
          },
          "metadata": {
            "tags": []
          },
          "execution_count": 95
        }
      ]
    },
    {
      "cell_type": "code",
      "metadata": {
        "id": "YHVh_XVHjRgy",
        "colab_type": "code",
        "colab": {}
      },
      "source": [
        "#df1 = df0.groupby(('tipo', 'atenci_n')).id_de_caso.count()\n",
        "df0.groupby(('pertenencia_etnica')).id_de_caso.count()\n",
        "\n",
        "df0['pertenencia_etnica'].fillna('Otro', inplace =True) "
      ],
      "execution_count": null,
      "outputs": []
    },
    {
      "cell_type": "code",
      "metadata": {
        "id": "m1JSnIXW3MnD",
        "colab_type": "code",
        "colab": {
          "base_uri": "https://localhost:8080/",
          "height": 141
        },
        "outputId": "c708bbe6-6205-47d5-b58e-7611110a5e69"
      },
      "source": [
        "df0.groupby(('tipo')).id_de_caso.count()"
      ],
      "execution_count": null,
      "outputs": [
        {
          "output_type": "execute_result",
          "data": {
            "text/plain": [
              "tipo\n",
              "En estudio     542037\n",
              "Importado         958\n",
              "RELACIONADO        14\n",
              "Relacionado     29223\n",
              "relacionado        38\n",
              "Name: id_de_caso, dtype: int64"
            ]
          },
          "metadata": {
            "tags": []
          },
          "execution_count": 97
        }
      ]
    },
    {
      "cell_type": "markdown",
      "metadata": {
        "id": "qyJ7zLumoPqA",
        "colab_type": "text"
      },
      "source": [
        "Se observa que la palabra Relacionado esta escrita de 3 formas diferentes esto podria afectar el analisis, por este motivo se deben de igualar"
      ]
    },
    {
      "cell_type": "code",
      "metadata": {
        "id": "M6_GXNyc2Zkr",
        "colab_type": "code",
        "colab": {}
      },
      "source": [
        "df0['tipo'] = df0.tipo.replace(\"RELACIONADO\", \"Relacionado\")\n",
        "df0['tipo'] = df0.tipo.replace(\"relacionado\", \"Relacionado\")"
      ],
      "execution_count": null,
      "outputs": []
    },
    {
      "cell_type": "code",
      "metadata": {
        "id": "uF4KurB34H2Z",
        "colab_type": "code",
        "colab": {
          "base_uri": "https://localhost:8080/",
          "height": 710
        },
        "outputId": "7693b506-d958-4006-851f-b5bfff539146"
      },
      "source": [
        "df0.groupby(('departamento')).id_de_caso.count()"
      ],
      "execution_count": null,
      "outputs": [
        {
          "output_type": "execute_result",
          "data": {
            "text/plain": [
              "departamento\n",
              "Amazonas                                                     2693\n",
              "Antioquia                                                   74796\n",
              "Arauca                                                        788\n",
              "Archipiélago de San Andrés Providencia y Santa Catalina       172\n",
              "Atlántico                                                   27698\n",
              "Barranquilla D.E.                                           35732\n",
              "Bogotá D.C.                                                199324\n",
              "Bolívar                                                      4537\n",
              "Boyacá                                                       3395\n",
              "Buenaventura D.E.                                            2395\n",
              "Caldas                                                       2547\n",
              "Caquetá                                                      5206\n",
              "Cartagena D.T. y C.                                         19839\n",
              "Casanare                                                      930\n",
              "Cauca                                                        4542\n",
              "Cesar                                                        8770\n",
              "Chocó                                                        3682\n",
              "Cundinamarca                                                20788\n",
              "Córdoba                                                     18335\n",
              "Guainía                                                        88\n",
              "Guaviare                                                      238\n",
              "Huila                                                        4050\n",
              "La Guajira                                                   4631\n",
              "Magdalena                                                    3677\n",
              "Meta                                                         7650\n",
              "Nariño                                                      13392\n",
              "Norte de Santander                                          10075\n",
              "Putumayo                                                     2611\n",
              "Quindío                                                      1021\n",
              "Risaralda                                                    5396\n",
              "Santa Marta D.T. y C.                                        8030\n",
              "Santander                                                   15424\n",
              "Sucre                                                       10999\n",
              "Tolima                                                       6238\n",
              "Valle del Cauca                                             42299\n",
              "Vaupés                                                        234\n",
              "Vichada                                                        48\n",
              "Name: id_de_caso, dtype: int64"
            ]
          },
          "metadata": {
            "tags": []
          },
          "execution_count": 99
        }
      ]
    },
    {
      "cell_type": "markdown",
      "metadata": {
        "id": "bScRvP7ACSBI",
        "colab_type": "text"
      },
      "source": [
        "Se observa que hay departamentos que tienen como nombre su capital, se modifican los valores por el nombre del Departamento real"
      ]
    },
    {
      "cell_type": "code",
      "metadata": {
        "id": "JpRZrMVAmgV_",
        "colab_type": "code",
        "colab": {
          "base_uri": "https://localhost:8080/",
          "height": 265
        },
        "outputId": "735f311d-76de-4a33-fe62-b3270eec07ac"
      },
      "source": [
        "df0.departamento.replace(\"Barranquilla D.E.\", \"Atlántico\")\n",
        "df0.departamento.replace(\"Cartagena D.T. y C.\", \"Bolívar\")\n",
        "df0.departamento.replace(\"Santa Marta D.T. y C.\", \"Magdalena\")\n",
        "df0.departamento.replace(\"Buenaventura D.E.\", \"Valle del Cauca\")\n",
        "df0.departamento.replace(\"Bogotá D C\",\"Bogotá D.C\") "
      ],
      "execution_count": null,
      "outputs": [
        {
          "output_type": "execute_result",
          "data": {
            "text/plain": [
              "0             Bogotá D.C.\n",
              "1         Valle del Cauca\n",
              "2               Antioquia\n",
              "3               Antioquia\n",
              "4               Antioquia\n",
              "               ...       \n",
              "572265          Antioquia\n",
              "572266          Antioquia\n",
              "572267          Antioquia\n",
              "572268          Antioquia\n",
              "572269          Antioquia\n",
              "Name: departamento, Length: 572270, dtype: category\n",
              "Categories (37, object): [Amazonas, Antioquia, Arauca,\n",
              "                          Archipiélago de San Andrés Providencia y Santa..., ..., Tolima, Valle del Cauca, Vaupés, Vichada]"
            ]
          },
          "metadata": {
            "tags": []
          },
          "execution_count": 100
        }
      ]
    },
    {
      "cell_type": "code",
      "metadata": {
        "id": "i0mtZeH54gY9",
        "colab_type": "code",
        "colab": {
          "base_uri": "https://localhost:8080/",
          "height": 158
        },
        "outputId": "17ec969f-5409-496a-abbb-9d5f36afda85"
      },
      "source": [
        "df0.groupby(('atenci_n')).id_de_caso.count()"
      ],
      "execution_count": null,
      "outputs": [
        {
          "output_type": "execute_result",
          "data": {
            "text/plain": [
              "atenci_n\n",
              "Casa            123765\n",
              "Fallecido        18184\n",
              "Hospital         20176\n",
              "Hospital UCI      1853\n",
              "N/A               1171\n",
              "Recuperado      407121\n",
              "Name: id_de_caso, dtype: int64"
            ]
          },
          "metadata": {
            "tags": []
          },
          "execution_count": 101
        }
      ]
    },
    {
      "cell_type": "markdown",
      "metadata": {
        "id": "7qE657fG4pnJ",
        "colab_type": "text"
      },
      "source": [
        "Se observa que hay 1.171 registros esto podria afectar el analisis, por este motivo se deben modificar"
      ]
    },
    {
      "cell_type": "code",
      "metadata": {
        "id": "x45bZCtj4vNA",
        "colab_type": "code",
        "colab": {
          "base_uri": "https://localhost:8080/",
          "height": 158
        },
        "outputId": "90e7959d-0de6-4b29-f82b-8c0c45e9dbd8"
      },
      "source": [
        "df0['atenci_n'] = df0.atenci_n.replace(\"CASA\", \"Casa\")\n",
        "df0.groupby(('atenci_n')).id_de_caso.count()"
      ],
      "execution_count": null,
      "outputs": [
        {
          "output_type": "execute_result",
          "data": {
            "text/plain": [
              "atenci_n\n",
              "Casa            123765\n",
              "Fallecido        18184\n",
              "Hospital         20176\n",
              "Hospital UCI      1853\n",
              "N/A               1171\n",
              "Recuperado      407121\n",
              "Name: id_de_caso, dtype: int64"
            ]
          },
          "metadata": {
            "tags": []
          },
          "execution_count": 102
        }
      ]
    },
    {
      "cell_type": "code",
      "metadata": {
        "id": "Z8CUNzZi4_tY",
        "colab_type": "code",
        "colab": {
          "base_uri": "https://localhost:8080/",
          "height": 123
        },
        "outputId": "b4bd246d-0bf3-48d3-d50a-b228d2e0cb9b"
      },
      "source": [
        "df0.groupby(('sexo')).id_de_caso.count()"
      ],
      "execution_count": null,
      "outputs": [
        {
          "output_type": "execute_result",
          "data": {
            "text/plain": [
              "sexo\n",
              "F    277448\n",
              "M    294813\n",
              "f         7\n",
              "m         2\n",
              "Name: id_de_caso, dtype: int64"
            ]
          },
          "metadata": {
            "tags": []
          },
          "execution_count": 103
        }
      ]
    },
    {
      "cell_type": "markdown",
      "metadata": {
        "id": "oUmdfhjf5IAG",
        "colab_type": "text"
      },
      "source": [
        "Se observa que la palabra F y M esta escrita de 2 formas diferentes esto podria afectar el analisis, por este motivo se deben de igualar"
      ]
    },
    {
      "cell_type": "code",
      "metadata": {
        "id": "GMUXOoI15Nii",
        "colab_type": "code",
        "colab": {
          "base_uri": "https://localhost:8080/",
          "height": 87
        },
        "outputId": "7d68ecae-cb4b-471d-a10f-ba3a1c02d990"
      },
      "source": [
        "df0['sexo'] = df0.sexo.replace(\"f\", \"F\")\n",
        "df0['sexo'] = df0.sexo.replace(\"m\", \"M\")\n",
        "df0.groupby(('sexo')).id_de_caso.count()"
      ],
      "execution_count": null,
      "outputs": [
        {
          "output_type": "execute_result",
          "data": {
            "text/plain": [
              "sexo\n",
              "F    277455\n",
              "M    294815\n",
              "Name: id_de_caso, dtype: int64"
            ]
          },
          "metadata": {
            "tags": []
          },
          "execution_count": 104
        }
      ]
    },
    {
      "cell_type": "code",
      "metadata": {
        "id": "_wBH_eSZ5akD",
        "colab_type": "code",
        "colab": {
          "base_uri": "https://localhost:8080/",
          "height": 158
        },
        "outputId": "7a8023d9-aefa-48f3-f195-68d26e427d63"
      },
      "source": [
        "df0.groupby(('estado')).id_de_caso.count()"
      ],
      "execution_count": null,
      "outputs": [
        {
          "output_type": "execute_result",
          "data": {
            "text/plain": [
              "estado\n",
              "Asintomático     66536\n",
              "Fallecido        18184\n",
              "Grave             2014\n",
              "Leve            462449\n",
              "Moderado         21853\n",
              "N/A               1234\n",
              "Name: id_de_caso, dtype: int64"
            ]
          },
          "metadata": {
            "tags": []
          },
          "execution_count": 105
        }
      ]
    },
    {
      "cell_type": "markdown",
      "metadata": {
        "id": "A7cEnt8J5y1o",
        "colab_type": "text"
      },
      "source": [
        "Se observa que hay 1.171 registros esto podria afectar el analisis, por este motivo se deben modificar"
      ]
    },
    {
      "cell_type": "code",
      "metadata": {
        "id": "7e-H8aKHPYU9",
        "colab_type": "code",
        "colab": {
          "base_uri": "https://localhost:8080/",
          "height": 34
        },
        "outputId": "c1c42e4a-f62d-47cd-8118-6549ed1cace7"
      },
      "source": [
        "# Buscamos fecha maxima\n",
        "min(df0['fecha_de_notificaci_n'])"
      ],
      "execution_count": null,
      "outputs": [
        {
          "output_type": "execute_result",
          "data": {
            "text/plain": [
              "Timestamp('2020-03-02 00:00:00')"
            ]
          },
          "metadata": {
            "tags": []
          },
          "execution_count": 31
        }
      ]
    },
    {
      "cell_type": "code",
      "metadata": {
        "id": "fnQDi_axP4e9",
        "colab_type": "code",
        "colab": {
          "base_uri": "https://localhost:8080/",
          "height": 34
        },
        "outputId": "92f4d502-c288-44d8-f4bf-45a9c4f02fce"
      },
      "source": [
        "# Buscamos fecha minima\n",
        "max(df0['fecha_de_notificaci_n'])"
      ],
      "execution_count": null,
      "outputs": [
        {
          "output_type": "execute_result",
          "data": {
            "text/plain": [
              "Timestamp('2020-08-26 00:00:00')"
            ]
          },
          "metadata": {
            "tags": []
          },
          "execution_count": 106
        }
      ]
    },
    {
      "cell_type": "code",
      "metadata": {
        "id": "lzuFJq3W56Rc",
        "colab_type": "code",
        "colab": {
          "base_uri": "https://localhost:8080/",
          "height": 158
        },
        "outputId": "03965d87-0292-43e2-c4b0-23698d617b25"
      },
      "source": [
        "df0['estado'] = df0.estado.replace(\"LEVE\", \"Leve\")\n",
        "df0.groupby(('estado')).id_de_caso.count()"
      ],
      "execution_count": null,
      "outputs": [
        {
          "output_type": "execute_result",
          "data": {
            "text/plain": [
              "estado\n",
              "Asintomático     66536\n",
              "Fallecido        18184\n",
              "Grave             2014\n",
              "Leve            462449\n",
              "Moderado         21853\n",
              "N/A               1234\n",
              "Name: id_de_caso, dtype: int64"
            ]
          },
          "metadata": {
            "tags": []
          },
          "execution_count": 107
        }
      ]
    },
    {
      "cell_type": "markdown",
      "metadata": {
        "id": "IxryCKdi7K9H",
        "colab_type": "text"
      },
      "source": [
        "Se observa que la palabra ANDOQUE Y ZENÚ esta escrita de 2 formas diferentes esto podria afectar el analisis, por este motivo se deben de igualar\n",
        "\n",
        "\n"
      ]
    },
    {
      "cell_type": "code",
      "metadata": {
        "id": "ZvOSWU7N-87X",
        "colab_type": "code",
        "colab": {
          "base_uri": "https://localhost:8080/",
          "height": 158
        },
        "outputId": "44ab09cf-1b6a-4b87-af83-03b763e6a3f7"
      },
      "source": [
        "df0.groupby(df0['fecha_de_notificaci_n'].dt.month).id_de_caso.count()"
      ],
      "execution_count": null,
      "outputs": [
        {
          "output_type": "execute_result",
          "data": {
            "text/plain": [
              "fecha_de_notificaci_n\n",
              "3      1912\n",
              "4      6992\n",
              "5     30609\n",
              "6     95706\n",
              "7    263598\n",
              "8    173453\n",
              "Name: id_de_caso, dtype: int64"
            ]
          },
          "metadata": {
            "tags": []
          },
          "execution_count": 108
        }
      ]
    },
    {
      "cell_type": "code",
      "metadata": {
        "id": "2P1Efqb1N2YD",
        "colab_type": "code",
        "colab": {
          "base_uri": "https://localhost:8080/",
          "height": 287
        },
        "outputId": "b107ae37-42f9-4d6b-93d1-433934f730d5"
      },
      "source": [
        "df0.describe()"
      ],
      "execution_count": null,
      "outputs": [
        {
          "output_type": "execute_result",
          "data": {
            "text/html": [
              "<div>\n",
              "<style scoped>\n",
              "    .dataframe tbody tr th:only-of-type {\n",
              "        vertical-align: middle;\n",
              "    }\n",
              "\n",
              "    .dataframe tbody tr th {\n",
              "        vertical-align: top;\n",
              "    }\n",
              "\n",
              "    .dataframe thead th {\n",
              "        text-align: right;\n",
              "    }\n",
              "</style>\n",
              "<table border=\"1\" class=\"dataframe\">\n",
              "  <thead>\n",
              "    <tr style=\"text-align: right;\">\n",
              "      <th></th>\n",
              "      <th>id_de_caso</th>\n",
              "      <th>edad</th>\n",
              "    </tr>\n",
              "  </thead>\n",
              "  <tbody>\n",
              "    <tr>\n",
              "      <th>count</th>\n",
              "      <td>572270.000000</td>\n",
              "      <td>572270.000000</td>\n",
              "    </tr>\n",
              "    <tr>\n",
              "      <th>mean</th>\n",
              "      <td>286175.193947</td>\n",
              "      <td>39.622274</td>\n",
              "    </tr>\n",
              "    <tr>\n",
              "      <th>std</th>\n",
              "      <td>165200.789683</td>\n",
              "      <td>18.125528</td>\n",
              "    </tr>\n",
              "    <tr>\n",
              "      <th>min</th>\n",
              "      <td>1.000000</td>\n",
              "      <td>0.000000</td>\n",
              "    </tr>\n",
              "    <tr>\n",
              "      <th>25%</th>\n",
              "      <td>143108.250000</td>\n",
              "      <td>27.000000</td>\n",
              "    </tr>\n",
              "    <tr>\n",
              "      <th>50%</th>\n",
              "      <td>286175.500000</td>\n",
              "      <td>37.000000</td>\n",
              "    </tr>\n",
              "    <tr>\n",
              "      <th>75%</th>\n",
              "      <td>429242.750000</td>\n",
              "      <td>52.000000</td>\n",
              "    </tr>\n",
              "    <tr>\n",
              "      <th>max</th>\n",
              "      <td>572310.000000</td>\n",
              "      <td>110.000000</td>\n",
              "    </tr>\n",
              "  </tbody>\n",
              "</table>\n",
              "</div>"
            ],
            "text/plain": [
              "          id_de_caso           edad\n",
              "count  572270.000000  572270.000000\n",
              "mean   286175.193947      39.622274\n",
              "std    165200.789683      18.125528\n",
              "min         1.000000       0.000000\n",
              "25%    143108.250000      27.000000\n",
              "50%    286175.500000      37.000000\n",
              "75%    429242.750000      52.000000\n",
              "max    572310.000000     110.000000"
            ]
          },
          "metadata": {
            "tags": []
          },
          "execution_count": 109
        }
      ]
    },
    {
      "cell_type": "markdown",
      "metadata": {
        "id": "husiy5DzcVwM",
        "colab_type": "text"
      },
      "source": [
        "Las columnas de la base de datos seleccionada contiene atributos del siguiente tipo:"
      ]
    },
    {
      "cell_type": "code",
      "metadata": {
        "id": "yO33M7iYh5Bf",
        "colab_type": "code",
        "colab": {
          "base_uri": "https://localhost:8080/",
          "height": 34
        },
        "outputId": "e59e2f5a-6de4-4e66-96cc-8fd8dd43c29f"
      },
      "source": [
        "df0.isnull().sum().sum()"
      ],
      "execution_count": null,
      "outputs": [
        {
          "output_type": "execute_result",
          "data": {
            "text/plain": [
              "0"
            ]
          },
          "metadata": {
            "tags": []
          },
          "execution_count": 110
        }
      ]
    },
    {
      "cell_type": "markdown",
      "metadata": {
        "id": "YQBLcmaUs9K3",
        "colab_type": "text"
      },
      "source": [
        "Observamos que hay una persona en la base de datos que tiene 116 años, por lo tanto se debe validar. Nota pedir orientación de que hacer con este registro."
      ]
    },
    {
      "cell_type": "code",
      "metadata": {
        "id": "uEkrIYTeOPIQ",
        "colab_type": "code",
        "colab": {
          "base_uri": "https://localhost:8080/",
          "height": 114
        },
        "outputId": "1c1cb6ec-643e-49c0-9303-101461d0c77a"
      },
      "source": [
        "df = df0[df0['edad']>109]\n",
        "df"
      ],
      "execution_count": null,
      "outputs": [
        {
          "output_type": "execute_result",
          "data": {
            "text/html": [
              "<div>\n",
              "<style scoped>\n",
              "    .dataframe tbody tr th:only-of-type {\n",
              "        vertical-align: middle;\n",
              "    }\n",
              "\n",
              "    .dataframe tbody tr th {\n",
              "        vertical-align: top;\n",
              "    }\n",
              "\n",
              "    .dataframe thead th {\n",
              "        text-align: right;\n",
              "    }\n",
              "</style>\n",
              "<table border=\"1\" class=\"dataframe\">\n",
              "  <thead>\n",
              "    <tr style=\"text-align: right;\">\n",
              "      <th></th>\n",
              "      <th>id_de_caso</th>\n",
              "      <th>fecha_de_notificaci_n</th>\n",
              "      <th>c_digo_divipola</th>\n",
              "      <th>ciudad_de_ubicaci_n</th>\n",
              "      <th>departamento</th>\n",
              "      <th>atenci_n</th>\n",
              "      <th>edad</th>\n",
              "      <th>sexo</th>\n",
              "      <th>tipo</th>\n",
              "      <th>estado</th>\n",
              "      <th>pa_s_de_procedencia</th>\n",
              "      <th>fis</th>\n",
              "      <th>fecha_diagnostico</th>\n",
              "      <th>fecha_reporte_web</th>\n",
              "      <th>tipo_recuperaci_n</th>\n",
              "      <th>codigo_departamento</th>\n",
              "      <th>pertenencia_etnica</th>\n",
              "      <th>nombre_grupo_etnico</th>\n",
              "    </tr>\n",
              "  </thead>\n",
              "  <tbody>\n",
              "    <tr>\n",
              "      <th>466413</th>\n",
              "      <td>466454</td>\n",
              "      <td>2020-08-01</td>\n",
              "      <td>47001</td>\n",
              "      <td>Santa Marta</td>\n",
              "      <td>Santa Marta D.T. y C.</td>\n",
              "      <td>Recuperado</td>\n",
              "      <td>110</td>\n",
              "      <td>F</td>\n",
              "      <td>En estudio</td>\n",
              "      <td>Leve</td>\n",
              "      <td>COLOMBIA</td>\n",
              "      <td>2020-07-29T00:00:00.000</td>\n",
              "      <td>2020-08-16</td>\n",
              "      <td>2020-08-16</td>\n",
              "      <td>Tiempo</td>\n",
              "      <td>47</td>\n",
              "      <td>Otro</td>\n",
              "      <td>No identificado</td>\n",
              "    </tr>\n",
              "  </tbody>\n",
              "</table>\n",
              "</div>"
            ],
            "text/plain": [
              "        id_de_caso fecha_de_notificaci_n  ... pertenencia_etnica nombre_grupo_etnico\n",
              "466413      466454            2020-08-01  ...               Otro     No identificado\n",
              "\n",
              "[1 rows x 18 columns]"
            ]
          },
          "metadata": {
            "tags": []
          },
          "execution_count": 111
        }
      ]
    },
    {
      "cell_type": "code",
      "metadata": {
        "id": "lzx0z8uMG4s2",
        "colab_type": "code",
        "colab": {
          "base_uri": "https://localhost:8080/",
          "height": 354
        },
        "outputId": "15bf0775-763c-4980-b833-adda41062f89"
      },
      "source": [
        "print(df0.isnull().sum(axis = 0))\n",
        "#df0_tr.groupby(('estado')).tipo_recuperaci_n.count()"
      ],
      "execution_count": null,
      "outputs": [
        {
          "output_type": "stream",
          "text": [
            "id_de_caso               0\n",
            "fecha_de_notificaci_n    0\n",
            "c_digo_divipola          0\n",
            "ciudad_de_ubicaci_n      0\n",
            "departamento             0\n",
            "atenci_n                 0\n",
            "edad                     0\n",
            "sexo                     0\n",
            "tipo                     0\n",
            "estado                   0\n",
            "pa_s_de_procedencia      0\n",
            "fis                      0\n",
            "fecha_diagnostico        0\n",
            "fecha_reporte_web        0\n",
            "tipo_recuperaci_n        0\n",
            "codigo_departamento      0\n",
            "pertenencia_etnica       0\n",
            "nombre_grupo_etnico      0\n",
            "dtype: int64\n"
          ],
          "name": "stdout"
        }
      ]
    },
    {
      "cell_type": "code",
      "metadata": {
        "id": "FlRnU5fvVYPK",
        "colab_type": "code",
        "colab": {}
      },
      "source": [
        "ruta = \"covid_ff.csv\"\n",
        "df0.to_csv(ruta)"
      ],
      "execution_count": null,
      "outputs": []
    },
    {
      "cell_type": "code",
      "metadata": {
        "id": "JiAhONKCr6fy",
        "colab_type": "code",
        "colab": {}
      },
      "source": [
        ""
      ],
      "execution_count": null,
      "outputs": []
    }
  ]
}